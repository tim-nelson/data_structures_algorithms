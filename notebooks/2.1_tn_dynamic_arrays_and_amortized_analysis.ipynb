{
 "cells": [
  {
   "cell_type": "markdown",
   "metadata": {},
   "source": [
    "# Dynamic Arrays and Amortized Analysis"
   ]
  },
  {
   "cell_type": "markdown",
   "metadata": {},
   "source": [
    "## Dynamic Arrays\n",
    "\n",
    "**Array:** Static  \n",
    "**Dynamically-allocated array:** Allocate the array (from dynamic memory), determine the size of the array at runtime. (Size does not change after allocated)  \n",
    "**Dynamic array:** Store a pointer to a dynamically allocated array, and replace it with a newly-allocated array as needed.\n",
    "\n",
    "#### Dynamic Array Operations\n",
    "| Operation      | Output | Time   | Time (amortized) |\n",
    "| :-            | :-    | :-:    | :-:\n",
    "`Get(i)` |   return element at location `i`  | $O(1)$ |\n",
    "`Set(i, val)` |   set element `i` to `val`  | $O(1)$ |\n",
    "`PushBack(val)` |   add `val` to the end  | $O(n)$ | $O(1)$\n",
    "`Remove(i)` |   remove element at location `i`  | $O(n)$ |\n",
    "`Size()` |   the number of elements  | $O(1)$ |\n",
    "\n",
    "#### Implementation\n",
    "Store:\n",
    "* `arr`: dynamically-allocated array\n",
    "* `capacity`: size of the dynamically-allocated array\n",
    "* `size`: number of elements currently in the array"
   ]
  },
  {
   "cell_type": "markdown",
   "metadata": {},
   "source": [
    "## Amortized Analysis\n",
    "\n",
    "#### Methods\n",
    "* **Aggregate method**  \n",
    "Given a sequence of $n$ operations, the amortized cost is: $ \\frac{\\text{Cost}(n \\; \\text{operations})}{n}$.\n",
    "\n",
    "* **Banker's method**  \n",
    "Count token...\n",
    "\n",
    "* **Physicist's method**  \n",
    "Use a potential function $\\Phi$ which maps states of the data structure to integers..."
   ]
  }
 ],
 "metadata": {
  "kernelspec": {
   "display_name": "ml",
   "language": "python",
   "name": "python3"
  },
  "language_info": {
   "codemirror_mode": {
    "name": "ipython",
    "version": 3
   },
   "file_extension": ".py",
   "mimetype": "text/x-python",
   "name": "python",
   "nbconvert_exporter": "python",
   "pygments_lexer": "ipython3",
   "version": "3.10.8"
  },
  "orig_nbformat": 4
 },
 "nbformat": 4,
 "nbformat_minor": 2
}
