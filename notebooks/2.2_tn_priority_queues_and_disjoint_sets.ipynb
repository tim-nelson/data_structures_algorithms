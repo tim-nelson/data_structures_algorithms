{
 "cells": [
  {
   "cell_type": "markdown",
   "metadata": {},
   "source": [
    "# Priority Queues and Disjoint Sets"
   ]
  },
  {
   "cell_type": "markdown",
   "metadata": {},
   "source": [
    "## Priority Queue\n",
    "**Definition:** A generalisation of a queue where each element is assigned a priority and elements come out in order by priority.\n",
    "\n",
    "#### Priority Queue Operations\n",
    "| Operation      | Output | Time (sorted array/list)   | Time (unsorted array/list) | Time (binary heap)|\n",
    "| :-            | :-    | :-:    |  :-: |:-:\n",
    "`Insert(p)` |   add new element with priority `p`  | $O(1)$ | $O(n)$ | $O(\\log n)$\n",
    "`ExtractMax()` |   extract an element with maximum priority`  | $O(n)$ | $O(1)$| $O(\\log n)$\n",
    "`Remove(it)` |   remove an element pointed by an iterator `it`  | $O(1)$ | $O(1)$ | $O(\\text{tree height})$\n",
    "`GetMax()` |   return an element with maximum priority (without changing the set of elements)  | $O(1)$| $O(n)$ | $O(1)$\n",
    "`ChangePriority(it, p)` |   change the priority of an element pointed by `it` to `p`  ||| $O(\\text{tree height})$\n",
    "*`SiftUp()` |     ||| $O(\\text{tree height})$\n",
    "*`SiftDown()` |    ||| $O(\\text{tree height})$\n",
    "\n",
    "$O(\\text{tree height}) = O(\\log n)$\n",
    "\n",
    "**Algorithms that use Priority Queues**\n",
    "* Dijkstra's algorithm: finding a shortest path in a graph\n",
    "* Prim's algorithm: constructing a minimum spanning tree of a graph\n",
    "* Huffman's algorithm: constructing an optimum prefix-free encoding of a string\n",
    "* Heap sort: sorting a given sequence"
   ]
  },
  {
   "cell_type": "markdown",
   "metadata": {},
   "source": [
    "## Binary Max-Heap\n",
    "**Definition:** A binary tree (each node has zero, one or two children) where the value of each node is **at least** the values of its children.  \n",
    "I.e. for each edge of the tree, the value of the parent is at least the value of the child.\n",
    "\n",
    "<p align=\"center\">\n",
    "    <img src=\"images\\binary_max_heap.png\" width=\"450\" style=\"display: inline-block; margin-right: 0px;\">\n",
    "</p>\n",
    "\n",
    "#### How to Keep a Tree Shallow?\n",
    "A binary tree is **complete** if all its levels are filled except possibly the last one which is filled from left to right.\n",
    "\n",
    "**Binary Tree Advantage 1 (LEMMA):**  \n",
    "A complete binary tree with $n$ nodes has height at most $O(\\log n)$.\n",
    "\n",
    "**Binary Tree Advantage 2:**  \n",
    "Can store a binary tree as an array.\n",
    "\n",
    "\n",
    "To ensure the tree stays complete,\n",
    "1. `Insert` an element as a leaf in the **lefmost vacant position in the last level** and let it sift up.\n",
    "2. `Extract` the maximum value by replacing the root with **the last leaf** and let it sift down."
   ]
  },
  {
   "cell_type": "markdown",
   "metadata": {},
   "source": [
    "## Heap Sort\n",
    "\n",
    "Heap Sort is a comparison-based algorithm.  \n",
    "Running time: $O(n \\log n)$"
   ]
  },
  {
   "cell_type": "code",
   "execution_count": 3,
   "metadata": {},
   "outputs": [],
   "source": [
    "def HeapSort(A):\n",
    "    # create an empty priority queue\n",
    "    # for i from 1 to n:\n",
    "        # Insert(A[i])\n",
    "    # for i from n downto 1:\n",
    "        # A[i] = ExtractMax()\n",
    "    ..."
   ]
  },
  {
   "cell_type": "markdown",
   "metadata": {},
   "source": [
    "**Disadvantage:** Not in-place, i.e. uses additional space to store the priority queue.\n",
    "\n",
    "**Solution:** Turn array into a heap. (Running time: $O(n \\log n)$)"
   ]
  },
  {
   "cell_type": "code",
   "execution_count": 4,
   "metadata": {},
   "outputs": [],
   "source": [
    "def BuildHeap(A):\n",
    "    # size = n\n",
    "    # for i from floor(n/2) downto 1:\n",
    "        # SiftDown(i)\n",
    "    ...\n",
    "\n",
    "def InPlaceHeapSort(A):\n",
    "    # BuildHeap(A)          {size=n}\n",
    "    # repeat (n-1) times:\n",
    "        # swap A[1] and A[size]\n",
    "        # size = size - 1\n",
    "        # SiftDown(1)\n",
    "    ..."
   ]
  },
  {
   "cell_type": "markdown",
   "metadata": {},
   "source": [
    "**In-place Heap Sort:** worst case $O(n \\log n)$  \n",
    "**Quick sort:** average $O(n \\log n)$, worst case $O(n^2)$.  \n",
    "\n",
    "Popular approach in practice: **Introsort algorithm**.\n",
    "1. run quicksort\n",
    "2. if recursion depth exceeds $c \\log n$, stop quicksort\n",
    "3. run heap sort"
   ]
  },
  {
   "cell_type": "markdown",
   "metadata": {},
   "source": [
    "### Partial Sorting"
   ]
  },
  {
   "cell_type": "markdown",
   "metadata": {},
   "source": [
    "**Input:** An array $A[1...n]$ and integer $k \\in [1, n]$.\n",
    "\n",
    "**Output:** The last $k$ elements of a sorted version of $A$.\n",
    "\n",
    "Running time: $O(n+k \\log n) = O(n)$ if $k = O(\\frac{n}{\\log n})$."
   ]
  },
  {
   "cell_type": "code",
   "execution_count": 5,
   "metadata": {},
   "outputs": [],
   "source": [
    "def PartialSorting(A, k):\n",
    "    # BuildHeap(A)\n",
    "    # for i from 1 to k:\n",
    "        # ExtractMax()\n",
    "    ..."
   ]
  },
  {
   "cell_type": "markdown",
   "metadata": {},
   "source": [
    "## Binary Min-Heap\n",
    "**Definition:** A binary tree (each node has zero, one or two children) where the value of each node is **at most** the values of its children.  "
   ]
  },
  {
   "cell_type": "markdown",
   "metadata": {},
   "source": [
    "## $d$-ary Heap\n",
    "**Definition:** A heap in which nodes on all levels except possibly the last one have exactly $d$ children.  \n",
    "* Height: $\\approx \\log_d n$\n",
    "* Running time of `SiftUp`: $O(\\log_d n)$\n",
    "* Running time of `SiftDown`: $O(d \\log_d n)$ (on each level, we find the largest value amond $d$ children.)"
   ]
  },
  {
   "cell_type": "markdown",
   "metadata": {},
   "source": [
    "## Disjoint-set data structure\n",
    "**Supports the following operations:**\n",
    "\n",
    "| Operation      | Output | Time (array)   | Time (linked-list) | Time (tree) | Time (tree) with <br> • rank heuristic <br> • path compression\n",
    "| :-            | :-    | :-:    | :-: |  :-: |  :-: |\n",
    "`MakeSet(x)` |   create a singleton set $\\{x\\}$  | $O(1)$ | $O(1)$ | $O(1)$ | $O(1)$ \n",
    "`Find(x)` |   return the ID of the set containing $x$: <br> • if $x$ and $y$ lie in the same set, then <br> `Find(x)` $=$ `Find(y)` <br> • otherwise, `Find(x)` $\\neq$ `Find(y)` | $O(1)$ | $O(n)$ | $O(\\log n)$ | $O(m \\log^* n) = O(1)$ \n",
    "`Union(x, y)` |   merge two sets containing `x` and `y`  | $O(n)$ | $O(1)$ | $O(\\log n)$ | $O(m \\log^* n) = O(1)$ \n",
    "\n",
    "Note, for practical values of $n$, $\\log^* n \\leq 5$.\n",
    "\n",
    "**Example Use-case:** Find whether there exists a path from point $A$ to point $b$ in a maze.  \n",
    "(Apply `MakeSet` to each cell in the maze then repeatedly apply `Union` to create disjoint regions.)\n",
    "\n",
    "### Basic structures for disjoint sets\n",
    "**ARRAY**  \n",
    "Cons:  \n",
    "* `Union(x,y)` works in time $O(n)$\n",
    "\n",
    "**LINKED LIST**  \n",
    "Pros:\n",
    "* Running time of `Union` is $O(1)$\n",
    "* well-defined ID  \n",
    "\n",
    "Cons:\n",
    "* Running time of `Find` is $O(n)$ as we need to traverse the list to find its tail.\n",
    "* `Union(x,y)` works in time $O(1)$ **only** if we can get the tail of the list of `x` and the head of the list of `y` in constant time!\n",
    "\n",
    "**TREES**  \n",
    "<p align=\"left\">\n",
    "    <img src=\"images\\disjoint_set_tree.png\" width=\"450\" style=\"display: inline-block; margin-right: 0px;\">\n",
    "</p>"
   ]
  }
 ],
 "metadata": {
  "kernelspec": {
   "display_name": "ml",
   "language": "python",
   "name": "python3"
  },
  "language_info": {
   "codemirror_mode": {
    "name": "ipython",
    "version": 3
   },
   "file_extension": ".py",
   "mimetype": "text/x-python",
   "name": "python",
   "nbconvert_exporter": "python",
   "pygments_lexer": "ipython3",
   "version": "3.10.8"
  },
  "orig_nbformat": 4
 },
 "nbformat": 4,
 "nbformat_minor": 2
}
