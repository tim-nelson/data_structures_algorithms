{
 "cells": [
  {
   "cell_type": "markdown",
   "metadata": {},
   "source": [
    "# Basic Data Structures"
   ]
  },
  {
   "cell_type": "markdown",
   "metadata": {},
   "source": [
    "## Arrays\n",
    "\n",
    "**Array:** Contiguous area of memory consisting of equal-size elements indexed by contiguous integers.\n",
    "\n",
    "* Constant-time access to read and write. Row-major examples:  \n",
    "`index_4_addr = array_addr + elem_size * (i - first_index)`  \n",
    "`index_i_j_addr = array_addr + elem_size * [row_size * (j - 1) + (i - first_index)]`  \n",
    "(The compiler does these calculations.)\n",
    "\n",
    "|Row-major| Columns-major |\n",
    "| :---: | :---: |\n",
    "| (1,1) | (1,1) |\n",
    "| (1,2) | (2,1) |\n",
    "| (1,3) | (3,1) |\n",
    "| (1,4) | (1,2) |\n",
    "| (1,5) | (2,2) |\n",
    "| (2,1) | (3,2) |\n",
    "| (2,2) | (1,3) |\n",
    "| $\\vdots$ | $\\vdots$ |\n",
    "\n",
    "### Time for Common Operations\n",
    "|               | Add    | Remove |\n",
    "| :-            | :-:    | :-:    |\n",
    "| **Beginning** | $O(n)$ | $O(n)$ |\n",
    "| **End**       | $O(1)$ | $O(1)$ |\n",
    "| **Middle**    | $O(n)$ | $O(n)$ |\n",
    "\n"
   ]
  },
  {
   "cell_type": "markdown",
   "metadata": {},
   "source": [
    "## Linked Lists (FIFO)\n",
    "\n",
    "\n",
    "**SINGLY-Linked List**  \n",
    "Each node constains a **key** and a **next pointer**.\n",
    "\n",
    "$\\text{head} \\to 7 \\to 9 \\to 4 \\to 3$\n",
    "\n",
    "$_\\text{head} \\nearrow$ $_{\\fbox{\\phantom{7}}}^{\\fbox{7}} \\nearrow$ $_{\\fbox{\\phantom{9}}}^{\\fbox{9}} \\nearrow$ $_{\\fbox{\\phantom{4}}}^{\\fbox{4}} \\nearrow$ $_{\\fbox{\\phantom{3}}}^{\\fbox{3}} \\nwarrow _\\text{tail}$\n",
    "\n",
    "<br>\n",
    "\n",
    "**DOUBLY-Linked List**  \n",
    "Each node constains a **key**, **next pointer**, and **prev pointer**.\n",
    "\n",
    "$\\text{head} \\to 7 _\\longleftarrow^\\longrightarrow 9 _\\longleftarrow^\\longrightarrow 7 _\\longleftarrow^\\longrightarrow 4 _\\longleftarrow^\\longrightarrow 7 _\\longleftarrow^\\longrightarrow 3 \\gets \\text{tail}$\n",
    "\n",
    "$_\\text{head} \\nearrow$ $_{\\fbox{\\phantom{7}}}^{\\fbox{7}}$ $ _\\longleftarrow^\\longrightarrow$ $_{\\fbox{\\phantom{9}}}^{\\fbox{9}}$ $_\\longleftarrow^\\longrightarrow$ $_{\\fbox{\\phantom{4}}}^{\\fbox{4}}$ $_\\longleftarrow^\\longrightarrow$ $_{\\fbox{\\phantom{3}}}^{\\fbox{3}}$ $\\nwarrow _\\text{tail}$\n",
    "\n",
    "<br>\n",
    "\n",
    "### List API\n",
    "| Operation      | Output | Time (no tail)   | Time (with tail) | Doubly-Linked\n",
    "| :-            | :-    | :-:    | :-: | :-:\n",
    "`PushFront(Key)` |   add to front  | $O(1)$ |\n",
    "`Key TopFront()` |   return front item  | $O(1)$ |\n",
    "`PopFront()` |   remove front item  | $O(1)$ |\n",
    "`PushBack(Key)`|   add to back  |  $O(n)$ | $O(1)$|\n",
    "`Key TopBack()`|   return back item  | $O(n)$ | $O(1)$|\n",
    "`PopBack()`|   remove back item  | $O(n)$ | | $O(1)$\n",
    "`Boolean Find(Key)`|   is key in list?  | $O(n)$ |\n",
    "`Erase(Key)`|   remove key from list  | $O(n)$ |\n",
    "`Boolean Empty(Key)`|  empty list?  | $O(1)$ |\n",
    "`AddBefore(Node, Key)`|   adds key before node  | $O(n)$ | | $O(1)$\n",
    "`AddAfter(Node, Key)`|   adds key after node| $O(1)$ |\n"
   ]
  },
  {
   "cell_type": "markdown",
   "metadata": {},
   "source": [
    "## Stacks\n",
    "Abstract data type with the following operations:\n",
    "\n",
    "| Operation      | Output | Time   |\n",
    "| :-            | :-    | :-:    | \n",
    "`Push(Key)` |   add key to collection  | $O(1)$ |\n",
    "`Key Top()` |   return most recently-added key  | $O(1)$ |\n",
    "`Key Pop()` |   remove and return most recently-added key  | $O(1)$ |\n",
    "`Boolian Empty()` |   are there any elements?  | $O(1)$ |"
   ]
  },
  {
   "cell_type": "markdown",
   "metadata": {},
   "source": [
    "Stacks can be implemented using **arrays (bad)** or **linked lists (good)**."
   ]
  },
  {
   "cell_type": "markdown",
   "metadata": {},
   "source": [
    "### Problem 1: Balanced Brackets"
   ]
  },
  {
   "cell_type": "markdown",
   "metadata": {},
   "source": [
    "**Input:** A string $\\text{str}$ consisting of $($ , $)$ , $[$ , $]$ characters.\n",
    "\n",
    "**Output:** Return whether or not the string's parentheses and square brackets are balanced."
   ]
  },
  {
   "cell_type": "code",
   "execution_count": 16,
   "metadata": {},
   "outputs": [
    {
     "data": {
      "text/plain": [
       "True"
      ]
     },
     "execution_count": 16,
     "metadata": {},
     "output_type": "execute_result"
    }
   ],
   "source": [
    "from collections import deque\n",
    "\n",
    "def IsBalanced(string: str):\n",
    "    stack = deque()\n",
    "    for char in string:\n",
    "        if char in [\"(\", \"[\"]:\n",
    "            stack.append(char) # push\n",
    "        \n",
    "        else:\n",
    "            # at this point char is not opening bracket\n",
    "            if not stack: # stack is empty (anything other than opening bracket is found)\n",
    "                return False\n",
    "            \n",
    "            # at this point we have top of stack = ( or [ and char = ) or ]\n",
    "            current_char = stack.pop()\n",
    "            if current_char == \"(\" and char != \")\" or \\\n",
    "                current_char == \"[\" and char != \"]\": # if stack = ([(, then char = ) good and char = ] bad\n",
    "                return False\n",
    "    \n",
    "    return not stack # stack is empty\n",
    "\n",
    "IsBalanced(f\"[([])()]\")"
   ]
  },
  {
   "cell_type": "markdown",
   "metadata": {},
   "source": [
    "## Queues (LIFO)\n",
    "**LIFO**\n",
    "Abstract data type with the following operations:\n",
    "\n",
    "| Operation      | Output | Time   |\n",
    "| :-            | :-    | :-:    | \n",
    "`Enqueue(Key)` |   add key to collection  | $O(1)$ |\n",
    "`Key Dequeue()` |   remove and return least recently-added key  | $O(1)$ |\n",
    "`Boolian Empty()` |   are there any elements?  | $O(1)$ |"
   ]
  },
  {
   "cell_type": "markdown",
   "metadata": {},
   "source": [
    "Queues can be implemented using **arrays (okay)** or **linked lists (good)**."
   ]
  },
  {
   "cell_type": "markdown",
   "metadata": {},
   "source": [
    "## Trees\n",
    "\n",
    "A tree is:\n",
    "\n",
    "* empty, or\n",
    "* a node with:\n",
    "    * a key, and\n",
    "    * a list of child trees\n",
    "\n",
    "**Binary Tree**\n",
    "* key\n",
    "* left , right\n",
    "* (optional) parent"
   ]
  },
  {
   "cell_type": "code",
   "execution_count": null,
   "metadata": {},
   "outputs": [],
   "source": [
    "def Height(tree):\n",
    "    if tree == None:\n",
    "        return 0\n",
    "    else:\n",
    "        return 1 + max(Height(tree.left), Height(tree.right))\n",
    "    \n",
    "def Size(tree):\n",
    "    if tree == None:\n",
    "        return 0\n",
    "    else:\n",
    "        return 1 + Size(tree.left) + Size(tree.right)"
   ]
  },
  {
   "cell_type": "markdown",
   "metadata": {},
   "source": [
    "### Walking a Tree\n",
    "\n",
    "\n",
    "**Depth-first:** Completely traverse one sub-tree before exploring a sibling sub-tree.  \n",
    "**Breadth-first:** Traverse all nodes at one level before progressing to the next level.\n",
    "\n",
    "Watch videos of the algorithms below."
   ]
  },
  {
   "cell_type": "code",
   "execution_count": null,
   "metadata": {},
   "outputs": [],
   "source": [
    "# Depth First Search (DFS)\n",
    "def InOrderTraversal(tree):\n",
    "    if tree != None:\n",
    "        return\n",
    "    InOrderTraversal(tree.left)\n",
    "    print(tree.key)\n",
    "    InOrderTraversal(tree.right)\n",
    "\n",
    "def PreOrderTraversal(tree):\n",
    "    if tree != None:\n",
    "        return\n",
    "    print(tree.key)\n",
    "    PreOrderTraversal(tree.left)\n",
    "    PreOrderTraversal(tree.right)\n",
    "\n",
    "def PostOrderTraversal(tree):\n",
    "    if tree != None:\n",
    "        return\n",
    "    PreOrderTraversal(tree.left)\n",
    "    PreOrderTraversal(tree.right)\n",
    "    print(tree.key)\n",
    "\n",
    "\n",
    "# Breadth First Search (BFS)\n",
    "def LevelTraversal(tree):\n",
    "    if tree != None:\n",
    "        return\n",
    "    queue = deque()\n",
    "    queue.append(tree)\n",
    "    while len(queue) != 0:\n",
    "        node = queue.pop(0)\n",
    "        print(node.key)\n",
    "        if node.left != None:\n",
    "            queue.append(node.left)\n",
    "        if node.right != None:\n",
    "            queue.append(node.right)"
   ]
  }
 ],
 "metadata": {
  "kernelspec": {
   "display_name": "ml",
   "language": "python",
   "name": "python3"
  },
  "language_info": {
   "codemirror_mode": {
    "name": "ipython",
    "version": 3
   },
   "file_extension": ".py",
   "mimetype": "text/x-python",
   "name": "python",
   "nbconvert_exporter": "python",
   "pygments_lexer": "ipython3",
   "version": "3.10.8"
  },
  "orig_nbformat": 4
 },
 "nbformat": 4,
 "nbformat_minor": 2
}
