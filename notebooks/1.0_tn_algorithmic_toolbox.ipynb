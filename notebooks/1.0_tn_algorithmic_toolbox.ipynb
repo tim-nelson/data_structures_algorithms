{
 "cells": [
  {
   "cell_type": "markdown",
   "metadata": {},
   "source": [
    "# Algorithmic Toolbox"
   ]
  },
  {
   "cell_type": "markdown",
   "metadata": {},
   "source": [
    "### Big O, Little o, Big Omega, Big Theta"
   ]
  },
  {
   "cell_type": "markdown",
   "metadata": {},
   "source": [
    "$f(n) = O(g(n)) \\iff f \\preceq g \\iff \\exists N, c : \\forall n \\geq N, \\; f(n) \\leq c \\cdot g(n)$  \n",
    "\n",
    "$f(n) = o(g(n)) \\iff f \\prec g \\iff f(n) / g(n) \\to 0 \\: \\text{as} \\: n \\to \\infty$  \n",
    "\n",
    "$f(n) = \\Omega(g(n)) \\iff f \\succeq g \\iff \\exists N, c : \\forall n \\geq N, \\; f(n) \\geq c \\cdot g(n)$  \n",
    "\n",
    "$f(n) = \\Theta(g(n)) \\iff f \\asymp g \\iff f(n) = O(g(n)) \\: \\text{and} \\: f(n) = \\Omega(g(n))$"
   ]
  },
  {
   "cell_type": "markdown",
   "metadata": {},
   "source": [
    "### Big O in Practise"
   ]
  },
  {
   "cell_type": "markdown",
   "metadata": {},
   "source": [
    "| Operation | Example | Runtime         | \n",
    "| -------- | ----------------- | ------------------ |\n",
    "| create array | `F = [1,...,n]` | $O(n)$  |\n",
    "| assign value   | `F[0] = 1` | $O(1)$  |\n",
    "| loop | `for i in range(1,n)` | $O(n)$  |\n",
    "| addition | `F[0] + F[1]` | $O(1)$ |\n",
    "| addition (size $\\propto$ loops) | `F[i-1] + F[i-2]` | $O(n)$ |\n",
    "| return | `return F[n]` | $O(1)$ |"
   ]
  },
  {
   "cell_type": "markdown",
   "metadata": {},
   "source": [
    "### Approximate Runtimes"
   ]
  },
  {
   "cell_type": "markdown",
   "metadata": {},
   "source": [
    "$\\log n \\prec \\sqrt{n} \\prec n \\prec n \\log n \\prec n^2 \\prec 2^n$\n",
    "\n",
    "|          | $n$               | $n \\log n$         | $n^2$               | $2^n$                            |\n",
    "| -------- | ----------------- | ------------------ | ------------------- | -------------------------------- |\n",
    "| $n=20$   | $1 \\; \\text{sec}$ | $1 \\; \\text{sec}$  | $1 \\; \\text{sec}$   | $1 \\; \\text{sec}$                |\n",
    "| $n=50$   | $1 \\; \\text{sec}$ | $1 \\; \\text{sec}$  | $1 \\; \\text{sec}$   | $13 \\; \\text{day}$               |\n",
    "| $n=10^2$ | $1 \\; \\text{sec}$ | $1 \\; \\text{sec}$  | $1 \\; \\text{sec}$   | $4 \\cdot 10^{13} \\; \\text{year}$ |\n",
    "| $n=10^6$ | $1 \\; \\text{sec}$ | $1 \\; \\text{sec}$  | $17 \\; \\text{min}$  |                                  |\n",
    "| $n=10^9$ | $1 \\; \\text{sec}$ | $30 \\; \\text{sec}$ | $30 \\; \\text{year}$ |                                  |"
   ]
  },
  {
   "cell_type": "markdown",
   "metadata": {},
   "source": [
    "### Levels of Design"
   ]
  },
  {
   "cell_type": "markdown",
   "metadata": {},
   "source": [
    "* **Naive Algorithm:** Definition to algorithm. Slow.\n",
    "* **Algorithm by way of standard Tools:** Standard techniques.\n",
    "* **Optimized Algorithm:** Improve existing algorithm.\n",
    "* **Magic Algorithm:** Unique insight."
   ]
  },
  {
   "cell_type": "markdown",
   "metadata": {},
   "source": [
    "### Stress Testing\n",
    "1. Write algorithms\n",
    "2. Write simple, brute force algorithm\n",
    "3. Run while loop: generate input, calculate and print outputs, repeat until outputs differ."
   ]
  },
  {
   "cell_type": "markdown",
   "metadata": {},
   "source": [
    "## Assignment: A plus B\n",
    "\n",
    "**Problem:** Given two digits $0 \\leq a, b \\leq 9$, find $a+b$.\n",
    "\n",
    "**Input format:** The first line of the input contains $a$ and $b$.\n",
    "\n",
    "**Output format:** Output $a+b$."
   ]
  },
  {
   "cell_type": "code",
   "execution_count": 10,
   "metadata": {},
   "outputs": [
    {
     "name": "stdout",
     "output_type": "stream",
     "text": [
      "8\n"
     ]
    }
   ],
   "source": [
    "%%python ../src/APlusB.py\n",
    "3 5"
   ]
  },
  {
   "cell_type": "markdown",
   "metadata": {},
   "source": [
    "## Assignment: Max Pairwise Product\n",
    "\n",
    "**Problem:** Given a sequence of non-negative integers $0 \\leq a_0, ..., a_{n-1} \\leq 10^5$, find the maximum pairwise product $\\underset{0 \\leq i \\neq j \\leq n-1}{\\max} a_i a_j$.\n",
    "\n",
    "**Input format:** The first line of the input contains number $2 \\leq n \\leq 2 \\cdot 10^5$. The next line contains $n$ non-negative integers $0 \\leq a_0, ..., a_{n-1} \\leq 10^5$\n",
    "\n",
    "**Output format:** Output a single number - the maximum pairwise product."
   ]
  },
  {
   "cell_type": "code",
   "execution_count": 37,
   "metadata": {},
   "outputs": [
    {
     "name": "stdout",
     "output_type": "stream",
     "text": [
      "6\n"
     ]
    }
   ],
   "source": [
    "%%python ../src/max_pairwise_product.py\n",
    "3\n",
    "1 2 3"
   ]
  },
  {
   "cell_type": "markdown",
   "metadata": {},
   "source": [
    "## Assignment: Fibonacci\n",
    "\n",
    "**Problem:** Given $n \\geq 0$, calculate the $n^\\text{th}$ Fibonacci number $F_n$.\n",
    "\n",
    "**Input format:** An integer $n \\geq 0$.  \n",
    "\n",
    "**Output format:** $F_n$"
   ]
  },
  {
   "cell_type": "markdown",
   "metadata": {},
   "source": [
    "First ten Fibonacci numbers: $0, 1, 1, 2, 3, 5, 8, 13, 21, 34$"
   ]
  },
  {
   "cell_type": "code",
   "execution_count": 45,
   "metadata": {},
   "outputs": [
    {
     "data": {
      "text/plain": [
       "34"
      ]
     },
     "execution_count": 45,
     "metadata": {},
     "output_type": "execute_result"
    }
   ],
   "source": [
    "def FibRecurs(n):\n",
    "    if n <= 1:\n",
    "        return n\n",
    "    else:\n",
    "        return FibRecurs(n-1) + FibRecurs(n-2)\n",
    "\n",
    "FibRecurs(9)"
   ]
  },
  {
   "cell_type": "markdown",
   "metadata": {},
   "source": [
    "### Running time\n",
    "Let $T(n)$ denote the number of lines of code executed by `FibRecurs(n)`.\n",
    "\n",
    "$$\n",
    "T(n) = \\left\\{\\begin{array}{c}\n",
    "2 & n \\leq 1\\\\\\\\\n",
    "3+T(n-1)+T(n-2) & n > 1\\\\\n",
    "\\end{array}\\right.\n",
    "$$\n",
    "\n",
    "Therefore, $T(n) \\geq F_n$.  \n",
    "\n",
    "$T(100) \\approx 1.77 \\cdot 10_{21} \\implies$ takes $56,000$ years to calculate $F_n$ at 1GHz."
   ]
  },
  {
   "cell_type": "code",
   "execution_count": 51,
   "metadata": {},
   "outputs": [
    {
     "data": {
      "text/plain": [
       "102334155"
      ]
     },
     "execution_count": 51,
     "metadata": {},
     "output_type": "execute_result"
    }
   ],
   "source": [
    "FibRecurs(40)"
   ]
  },
  {
   "cell_type": "code",
   "execution_count": 83,
   "metadata": {},
   "outputs": [
    {
     "data": {
      "text/plain": [
       "102334155"
      ]
     },
     "execution_count": 83,
     "metadata": {},
     "output_type": "execute_result"
    }
   ],
   "source": [
    "def FibList(n):\n",
    "    if n <= 1:\n",
    "        return [0, 1]\n",
    "    else:\n",
    "        F = FibList(n-1)\n",
    "        F.append(F[-1] + F[-2])\n",
    "        return F\n",
    "\n",
    "\n",
    "FibList(40)[-1]"
   ]
  },
  {
   "cell_type": "markdown",
   "metadata": {},
   "source": [
    "$$\n",
    "T(n) = 2n+2\n",
    "$$"
   ]
  },
  {
   "cell_type": "markdown",
   "metadata": {},
   "source": [
    "## Assignment: Greatest Common Divisor\n",
    "\n",
    "**Problem:** Given integers $a,b \\geq 0$, calculate $\\text{gcd}(a,b)$.\n",
    "\n",
    "**Input format:** Integer $a,b \\geq 0$.\n",
    "\n",
    "**Output format:** $\\text{gcd}(a,b)$"
   ]
  },
  {
   "cell_type": "code",
   "execution_count": 109,
   "metadata": {},
   "outputs": [
    {
     "name": "stdout",
     "output_type": "stream",
     "text": [
      "61232\n"
     ]
    }
   ],
   "source": [
    "def NaiveGCD(a: int,b: int) -> int:\n",
    "    for d in range(min(a,b), 1, -1):\n",
    "        if a % d == 0 and b % d == 0:\n",
    "            print(d)\n",
    "            break\n",
    "            \n",
    "NaiveGCD(3918848, 1653264)"
   ]
  },
  {
   "cell_type": "code",
   "execution_count": 110,
   "metadata": {},
   "outputs": [
    {
     "data": {
      "text/plain": [
       "61232"
      ]
     },
     "execution_count": 110,
     "metadata": {},
     "output_type": "execute_result"
    }
   ],
   "source": [
    "def EuclidGCD(a: int,b: int) -> int:\n",
    "    if b == 0:\n",
    "        return a\n",
    "    return EuclidGCD(b, a % b)\n",
    "\n",
    "EuclidGCD(3918848, 1653264)"
   ]
  }
 ],
 "metadata": {
  "kernelspec": {
   "display_name": "ml",
   "language": "python",
   "name": "python3"
  },
  "language_info": {
   "codemirror_mode": {
    "name": "ipython",
    "version": 3
   },
   "file_extension": ".py",
   "mimetype": "text/x-python",
   "name": "python",
   "nbconvert_exporter": "python",
   "pygments_lexer": "ipython3",
   "version": "3.10.8"
  },
  "orig_nbformat": 4
 },
 "nbformat": 4,
 "nbformat_minor": 2
}
