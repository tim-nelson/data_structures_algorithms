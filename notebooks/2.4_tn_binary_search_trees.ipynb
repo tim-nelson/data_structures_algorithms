{
 "cells": [
  {
   "cell_type": "markdown",
   "metadata": {},
   "source": [
    "# Binary Search Trees"
   ]
  },
  {
   "cell_type": "markdown",
   "metadata": {},
   "source": [
    "### Example Problems\n",
    "*Examples of a Local Search*\n",
    "* Find all words that start with some given string\n",
    "* Find all emails received in a given period\n",
    "* Find the person in you class whose height is closest to yours\n",
    "\n",
    "## Local Search\n",
    "**Definition:** A **Local Search Datastructure** stores a number of elementts each with a **key** coming from an ordered set.\n",
    "\n",
    "#### Operations for a Local Search Datastructure\n",
    "| Operation      | Output | Time (Hash Table) | Time (Array) | Time (Sorted Array) | Time (Linked List) | Time (Binary Search Tree) |\n",
    "| :-            | :-    | :-: | :-: | :-: | :-: | :-: |\n",
    "`RangeSearch(x,y)`| Return all elements with keys betwwen `x` and `y`  | Impossible | $O(n)$ | $O(\\log n)$ | $O(n)$ | $O(\\log n)$ |\n",
    "`NearestNeighbour(z)`|   Return the element with keys on either side of `z`  | Impossible | $O(n)$ | $O(\\log n)$ | $O(n)$ | $O(\\log n)$ |\n",
    "`Insert(z)`| Insert `z`  | $O(1)$ | $O(1)$ | $O(n)$ | $O(1)$ | $O(\\log n)$ |\n",
    "`Delete(z)`| Delete `z`  | $O(1)$ | $O(1)$ | $O(n)$ | $O(1)$ | $O(\\log n)$ |"
   ]
  },
  {
   "cell_type": "markdown",
   "metadata": {},
   "source": [
    "### Binary Search Tree"
   ]
  },
  {
   "cell_type": "markdown",
   "metadata": {},
   "source": [
    "**Search Tree Property:** $X$'s key is larger than the key of any descendent of its left child, and smaller than the key of any descendent of its right child.  \n",
    "*B correct*  \n",
    "*A, C incorrect*\n",
    "\n",
    "<p align=\"center\">\n",
    "    <img src=\"images\\search_trees.png\" width=\"800\" style=\"display: inline-block; margin-right: 0px;\">\n",
    "</p>"
   ]
  },
  {
   "cell_type": "markdown",
   "metadata": {},
   "source": [
    "### Problem: Find"
   ]
  },
  {
   "cell_type": "markdown",
   "metadata": {},
   "source": [
    "**Input:** Key $k$ and Root $R$.\n",
    "\n",
    "**Output:** The node in the tree of $R$ with key $k$."
   ]
  },
  {
   "cell_type": "code",
   "execution_count": 1,
   "metadata": {},
   "outputs": [],
   "source": [
    "def Find(k, R):\n",
    "    # if R.Key = k:\n",
    "    #     return R\n",
    "    # elif R.Key > k:\n",
    "    #     if R.Left is not None:\n",
    "    #         return Find(k, R.Left)\n",
    "    #      return R\n",
    "    # else:\n",
    "    #     if R.Right is not None:   \n",
    "    #         return Find(k, R.Right)\n",
    "    #     return R\n",
    "    ..."
   ]
  },
  {
   "cell_type": "markdown",
   "metadata": {},
   "source": [
    "### Problem: Next"
   ]
  },
  {
   "cell_type": "markdown",
   "metadata": {},
   "source": [
    "**Input:** Node $N$.\n",
    "\n",
    "**Output:** The node in the tree withthe next largest key."
   ]
  },
  {
   "cell_type": "code",
   "execution_count": 3,
   "metadata": {},
   "outputs": [],
   "source": [
    "def Next(N):\n",
    "    # if N.right is not None:\n",
    "    #     return LeftDescendent(N.right)\n",
    "    # else:\n",
    "    #     return RightAncestor(N)\n",
    "    ...\n",
    "\n",
    "def LeftDescendent(N):\n",
    "    # if N.left is None:\n",
    "    #     return N\n",
    "    # else:\n",
    "    #     return LeftDescendent(N.left)\n",
    "    ...\n",
    "\n",
    "def RightAncestor(N):\n",
    "    # if N.Key < N.Parent.Key:\n",
    "    #     return N.Parent\n",
    "    # else:\n",
    "    #     return RightAncestor(N.Parent)\n",
    "    ..."
   ]
  },
  {
   "cell_type": "markdown",
   "metadata": {},
   "source": [
    "### Problem: Range  Search"
   ]
  },
  {
   "cell_type": "markdown",
   "metadata": {},
   "source": [
    "**Input:** Numbers $x$, $y$, root $R$.\n",
    "\n",
    "**Output:** A list of nodes with key between $x$ and $y$."
   ]
  },
  {
   "cell_type": "code",
   "execution_count": 5,
   "metadata": {},
   "outputs": [],
   "source": [
    "def RangeSearch(x, y, R):\n",
    "    # L = []\n",
    "    # N = Find(x,R)\n",
    "    # while N.key <= y\n",
    "    #     if N.key >= x\n",
    "    #         L.append(N.key)\n",
    "    #     N = Next(N)\n",
    "    # return L\n",
    "    ..."
   ]
  },
  {
   "cell_type": "markdown",
   "metadata": {},
   "source": [
    "### Problem: Insert"
   ]
  },
  {
   "cell_type": "markdown",
   "metadata": {},
   "source": [
    "**Input:** Key $k$ and Root $R$.\n",
    "\n",
    "**Output:** Adds node with key $k$ to the tree."
   ]
  },
  {
   "cell_type": "code",
   "execution_count": 7,
   "metadata": {},
   "outputs": [],
   "source": [
    "def Insert(k, R):\n",
    "    # P = Find(k, R)\n",
    "    # add new node with key k as child of P\n",
    "    ..."
   ]
  },
  {
   "cell_type": "markdown",
   "metadata": {},
   "source": [
    "### Problem: Delete"
   ]
  },
  {
   "cell_type": "markdown",
   "metadata": {},
   "source": [
    "**Input:** Node $N$.\n",
    "\n",
    "**Output:** Remove node $N$ from the tree."
   ]
  },
  {
   "cell_type": "code",
   "execution_count": 8,
   "metadata": {},
   "outputs": [],
   "source": [
    "def Delete(N):\n",
    "    # if N.Right is None:\n",
    "    #     Remove N, promote N.Left to be child of N's parent\n",
    "    # else:\n",
    "    #    X = Next(N) # note X.left = None\n",
    "    #   Replace N with X, promote X.Right to be child of X's parent\n",
    "    ..."
   ]
  },
  {
   "cell_type": "markdown",
   "metadata": {},
   "source": [
    "## Balance"
   ]
  },
  {
   "cell_type": "markdown",
   "metadata": {},
   "source": [
    "* Want left and right subtrees to have approximately the same size.\n",
    "* Suppose perfectly balanced:\n",
    "    * Each subtree half the size of its parent.\n",
    "    * After $\\log_2(n)$ levels, subtree of size 1.\n",
    "    * Operations run in $O(\\log n)$ time.\n",
    "\n",
    "**Problem**  \n",
    "Insertions and deletions can destroy balance!\n",
    "\n",
    "**Solution**  \n",
    "Rebalancing via **Rotations**:\n",
    "\n",
    "<p align=\"center\">\n",
    "    <img src=\"images\\binary_tree_rebalance.png\" width=\"600\" style=\"display: inline-block; margin-right: 0px;\">\n",
    "</p>"
   ]
  },
  {
   "cell_type": "markdown",
   "metadata": {},
   "source": [
    "* Height is a rough measure of subtree size.\n",
    "* Want size of subtrees roughly the same.\n",
    "* Force heights to be roughly the same."
   ]
  },
  {
   "cell_type": "markdown",
   "metadata": {},
   "source": [
    "### AVL Property\n",
    "**Definition:** AVL trees maintain the following property:\n",
    "\n",
    "For all nodes $N$, `|N.Left.Height - N.Right.Height|` $\\leq$ `1`.\n",
    "\n",
    "**LEMMA**  \n",
    "AVL property $\\implies$ height $h = O(\\log n)$\n",
    "\n",
    "*Equivalently*,  \n",
    "Large height $\\implies$ many nodes.\n",
    "\n",
    "*i.e.*  \n",
    "**THEOREM**  \n",
    "Let $N$ be a node of a binary tree satisfying the AVL property.  \n",
    "Let $h = N.\\text{Height}$.  \n",
    "Then the subtree of $N$ has size at least the Fibonacci Number $F_h$.\n",
    "\n",
    "Therefore, \n",
    "* node of height $h$ has subtree of size at least $2^{h/2}$\n",
    "* $n \\geq 2^{h/2} \\implies h \\leq 2 \\log_2 n = O(\\log n)$.\n",
    "\n",
    "So,  \n",
    "if you can maintain the AVL property, you can perform operations in $O(\\log n)$ time."
   ]
  },
  {
   "cell_type": "markdown",
   "metadata": {},
   "source": [
    "### How to Maintain AVL Property\n",
    "* Need a new Insertion algorithm (that involves rebalancing)\n",
    "* Need a new Deletion algorithm (that involves rebalancing)"
   ]
  },
  {
   "cell_type": "code",
   "execution_count": 10,
   "metadata": {},
   "outputs": [],
   "source": [
    "def AVLInsert(k, R):\n",
    "    # Insert(k, R)\n",
    "    # N = Find(k, R)\n",
    "    # Rebalance(N)\n",
    "    ...\n",
    "\n",
    "def Rebalance(N):\n",
    "    # P = N.Parent\n",
    "    # if N.Left.Height > N.Right.Height + 1:\n",
    "    #     RebalanceRight(N)\n",
    "    # elif N.Right.Height > N.Left.Height + 1:\n",
    "    #     RebalanceLeft(N)\n",
    "    # AdjustHeight(N)\n",
    "    # if P is not None:\n",
    "    #     Rebalance(P)\n",
    "    ...\n",
    "\n",
    "def AdjustHeight(N):\n",
    "    # N.Height = 1 + max(N.Left.Height, N.Right.Height)\n",
    "    ...\n",
    "\n",
    "def RebalanceRight(N):\n",
    "    # M = N.Left\n",
    "    # if M.Left.Height < M.Right.Height:\n",
    "    #     RotateLeft(M)\n",
    "    # RotateRight(N)\n",
    "    # AdjustHeight on affected nodes\n",
    "    ...\n",
    "\n",
    "def AVLDelete(N):\n",
    "    # Delete(N)\n",
    "    # M = Parent of node replacing N\n",
    "    # Rebalance(M)\n",
    "    ..."
   ]
  },
  {
   "cell_type": "markdown",
   "metadata": {},
   "source": [
    "## Split & Merge\n",
    "* **Merge:** Combines two binary search trees into a single one.\n",
    "* **Split:** Breaks one binary search tree into two."
   ]
  },
  {
   "cell_type": "markdown",
   "metadata": {},
   "source": [
    "### Merge\n",
    "In general, to merge two sorted lists takes $O(n)$ time. However, when the are separated it is faster. I.e., when all the nodes in one tree are larger (or smaller) than all the nodes in the other tree."
   ]
  },
  {
   "cell_type": "markdown",
   "metadata": {},
   "source": [
    "**Input:** Roots $R_1$ and $R_2$ of trees with all keys in $R_1$'s tree smaller than those in $R_2$'s.\n",
    "\n",
    "**Output:** The root of a new tree with all the elements of both trees."
   ]
  },
  {
   "cell_type": "code",
   "execution_count": 11,
   "metadata": {},
   "outputs": [],
   "source": [
    "def MergeWithRoot(R1, R2, new_root):\n",
    "    \"\"\"Time O(1).\"\"\"\n",
    "    ...\n",
    "\n",
    "def Merge(R1, R2):\n",
    "    \"\"\"Time O(h).\"\"\"\n",
    "    ...\n",
    "\n",
    "def AVLTreeMergeWithRoot(R1, R2, new_root):\n",
    "    \"\"\"Time O(|R1.Height - R2.Height| + 1).\"\"\"\n",
    "    ..."
   ]
  },
  {
   "cell_type": "markdown",
   "metadata": {},
   "source": [
    "**Time:** $\\sum O(|R_i.Height - R_{i+1}.Height| + 1) = O(h_{max}) = O(\\log n)$."
   ]
  },
  {
   "cell_type": "markdown",
   "metadata": {},
   "source": [
    "### Split\n",
    "*Idea*  \n",
    "Search for $x$, merge subtrees."
   ]
  },
  {
   "cell_type": "markdown",
   "metadata": {},
   "source": [
    "**Input:** Root $R$ of a tree, key $x$.\n",
    "\n",
    "**Output:** Two trees, one with elements $< x$, one with elements $> x$."
   ]
  },
  {
   "cell_type": "code",
   "execution_count": null,
   "metadata": {},
   "outputs": [],
   "source": [
    "def Split(R, x):\n",
    "    \"\"\"Time O(|R1.Height - R2.Height| + 1).\"\"\"\n",
    "    ..."
   ]
  },
  {
   "cell_type": "markdown",
   "metadata": {},
   "source": [
    "**Time:** $\\sum O(|R_i.Height - R_{i+1}.Height| + 1) = O(h_{max}) = O(\\log n)$."
   ]
  },
  {
   "cell_type": "markdown",
   "metadata": {},
   "source": [
    "## Applications of Binary Search Trees"
   ]
  },
  {
   "cell_type": "markdown",
   "metadata": {},
   "source": [
    "Things you might want to do:\n",
    "* Return the 7th largest element.\n",
    "* Return the median element.\n",
    "* Return the 25% percentile element."
   ]
  },
  {
   "cell_type": "markdown",
   "metadata": {},
   "source": [
    "### Problem 1: Order Statistic"
   ]
  },
  {
   "cell_type": "markdown",
   "metadata": {},
   "source": [
    "**Input:** The root of a tree $T$ and a number $k$.\n",
    "\n",
    "**Output:** The $k^{th}$ smallest element in $T$."
   ]
  },
  {
   "cell_type": "markdown",
   "metadata": {},
   "source": [
    "* Need to know which subtree to look in.\n",
    "* Need to know how many elements are in left subtree. (More or less than $k$?)\n",
    "\n",
    "Easy fix: Add a **new field**.\n",
    "\n",
    "$N.\\text{Size}$ returns the number of elements in the subtree of $N$. Should satisfy:\n",
    "$$\n",
    "N.\\text{Size} = N.\\text{Left.Size} + N.\\text{Right.Size} + 1,\n",
    "$$\n",
    "where null nodes have zero size."
   ]
  },
  {
   "cell_type": "code",
   "execution_count": null,
   "metadata": {},
   "outputs": [],
   "source": [
    "def RecomputeSize(N):\n",
    "    ...\n",
    "\n",
    "def Rotate()\n",
    "    ...\n",
    "\n",
    "def OrderStatistic(R, k):\n",
    "    ..."
   ]
  },
  {
   "cell_type": "markdown",
   "metadata": {},
   "source": [
    "**Time:** $O(h)$."
   ]
  },
  {
   "cell_type": "markdown",
   "metadata": {},
   "source": [
    "### Problem 2: Color Flips"
   ]
  },
  {
   "cell_type": "markdown",
   "metadata": {},
   "source": [
    "* Array of squares.\n",
    "* Each black or white.\n",
    "* Want to be able to flip colors of all squares after index $x$.\n",
    "\n",
    "<p align=\"center\">\n",
    "    <img src=\"images\\color_flips.png\" width=\"600\" style=\"display: inline-block; margin-right: 0px;\">\n",
    "</p>\n",
    "\n",
    "#### Operations for Color Flips\n",
    "| Operation      | Output | Time (Array) | Time (Binary Search Tree)\n",
    "| :-            | :-    | :-: | :-: | \n",
    "`NewArray(n)`| Create an array with `n` white squares.  | $O(1)$ | $O()$ | \n",
    "`Color(m)`| Return color of `m`$^{th}$ square.  | $O(1)$ | $O()$ | \n",
    "`Flip(x)`| Flip the color of all squares of index $> x$.  | $O(n)$ | $O(0)$ | "
   ]
  },
  {
   "cell_type": "markdown",
   "metadata": {},
   "source": [
    "**Trees can be used for more than searching.**  \n",
    "**Trees can be used to store lists.**\n",
    "\n",
    "<p align=\"center\">\n",
    "    <img src=\"images\\color_flips_2.png\" width=\"300\" style=\"display: inline-block; margin-right: 0px;\">\n",
    "</p>"
   ]
  },
  {
   "cell_type": "code",
   "execution_count": 13,
   "metadata": {},
   "outputs": [],
   "source": [
    "def NewArray(n):\n",
    "    ...\n",
    "\n",
    "def Color(m):\n",
    "    ...\n",
    "\n",
    "def Flip(x):\n",
    "    ..."
   ]
  },
  {
   "cell_type": "markdown",
   "metadata": {},
   "source": [
    "## Splay Trees..."
   ]
  },
  {
   "cell_type": "markdown",
   "metadata": {},
   "source": [
    "Another type of binary search tree structure...\n",
    "\n",
    "Consider different structures for different problems."
   ]
  }
 ],
 "metadata": {
  "kernelspec": {
   "display_name": "ml",
   "language": "python",
   "name": "python3"
  },
  "language_info": {
   "codemirror_mode": {
    "name": "ipython",
    "version": 3
   },
   "file_extension": ".py",
   "mimetype": "text/x-python",
   "name": "python",
   "nbconvert_exporter": "python",
   "pygments_lexer": "ipython3",
   "version": "3.10.8"
  },
  "orig_nbformat": 4
 },
 "nbformat": 4,
 "nbformat_minor": 2
}
