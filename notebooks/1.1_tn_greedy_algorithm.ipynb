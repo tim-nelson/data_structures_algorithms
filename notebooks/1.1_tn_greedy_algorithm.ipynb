{
 "cells": [
  {
   "cell_type": "markdown",
   "metadata": {},
   "source": [
    "# Greedy Algorithm"
   ]
  },
  {
   "cell_type": "code",
   "execution_count": 1,
   "metadata": {},
   "outputs": [],
   "source": [
    "# Import built-in Python modules\n",
    "from typing import List"
   ]
  },
  {
   "cell_type": "markdown",
   "metadata": {},
   "source": [
    "**STRATEGY**\n",
    "\n",
    "1. Make some greedy choice\n",
    "2. Prove that is is a safe choice (mathematical proof)\n",
    "3. Reduce to a subproblem (e.g. smaller numbers)\n",
    "4. Iterate on subproblem until reaching a final solution\n",
    "5. Optimise by considering sorting before using greedy choice.\n",
    "6. Estimate running time to see if good enough"
   ]
  },
  {
   "cell_type": "markdown",
   "metadata": {},
   "source": [
    "**Safe Move**\n",
    "\n",
    "A greedy choice is called a **safe move** if there is an optimal solution consistent with this first move. I.e. there exists an optimal solution with first move the same as your first move."
   ]
  },
  {
   "cell_type": "markdown",
   "metadata": {},
   "source": [
    "## Applications"
   ]
  },
  {
   "cell_type": "markdown",
   "metadata": {},
   "source": [
    "### Algorithm 1: Largest Number"
   ]
  },
  {
   "cell_type": "markdown",
   "metadata": {},
   "source": [
    "**Problem:** Given a set of non-negative integers $0 \\leq a_0, ..., a_{n-1} \\leq 9$, find the largest number using all the integers as digits.\n",
    "\n",
    "**Input format:** Integers $0 \\leq a_0, ..., a_{n-1} \\leq 9$.\n",
    "\n",
    "**Output format:** Maximum number.\n",
    "\n",
    "**Example:** $3, 9, 5, 9, 7, 1 \\mapsto 997531$"
   ]
  },
  {
   "cell_type": "code",
   "execution_count": 9,
   "metadata": {},
   "outputs": [
    {
     "data": {
      "text/plain": [
       "997531"
      ]
     },
     "execution_count": 9,
     "metadata": {},
     "output_type": "execute_result"
    }
   ],
   "source": [
    "def largest_number(int_list: List):\n",
    "    \"\"\"\n",
    "    1. Find the largest number in the list\n",
    "    2. Append the largest number to a string\n",
    "    3. Remove the largest number from the list\n",
    "    4. Repeat 1 and 2 until the list is empty\n",
    "    \"\"\"\n",
    "    largest_number = ''\n",
    "    for i in range(len(int_list)):\n",
    "        max_int = max(int_list)\n",
    "        largest_number += str(max_int)\n",
    "\n",
    "        max_int_index = int_list.index(max_int)\n",
    "        int_list.pop(max_int_index)\n",
    "\n",
    "    return int(largest_number)\n",
    "\n",
    "largest_number([3, 9, 5, 9, 7, 1])"
   ]
  },
  {
   "cell_type": "markdown",
   "metadata": {},
   "source": [
    "### Algorithm 2: Car fueling"
   ]
  },
  {
   "cell_type": "markdown",
   "metadata": {},
   "source": [
    "**Problem:** Suppose a car's full-tank maximum travel distance is $L$ and there exist $n$ gas stations between points $A$ and $B$ at distances $0 \\leq d_1 \\leq d_2 \\leq ... \\leq d_n$. What is the minimum number of refills to get from $A$ to $B$, besides refill at $A$?\n",
    "\n",
    "**Input format:** Integers $0 \\leq a_0, ..., a_{n-1} \\leq 9$.\n",
    "\n",
    "**Output format:** Minimum number of refills.\n",
    "\n",
    "**Example:** $L=400$ and distances $0 \\leq 200 \\leq 375 \\leq 550 \\leq 750 \\leq 950 \\mapsto 2$"
   ]
  },
  {
   "cell_type": "code",
   "execution_count": 17,
   "metadata": {},
   "outputs": [
    {
     "data": {
      "text/plain": [
       "2"
      ]
     },
     "execution_count": 17,
     "metadata": {},
     "output_type": "execute_result"
    }
   ],
   "source": [
    "def MinRefills(x:List, L:int):\n",
    "    \"\"\"\n",
    "    Greedy approach: refill at the fartherst reachable gas station. This is a safe move.\n",
    "    \"\"\"\n",
    "    n = len(x) - 2 # number of gas stations\n",
    "    num_refills = 0 # number of refills\n",
    "    current_refill = 0 # index of the current gas station\n",
    "\n",
    "    while current_refill <= n: # while not arrived\n",
    "        last_refill = current_refill # index of the last gas station\n",
    "        while (current_refill <= n) and (x[current_refill + 1] - x[last_refill] <= L): # if can move forward\n",
    "            current_refill += 1\n",
    "        if current_refill == last_refill: # if cannot move forward\n",
    "            return -1\n",
    "        if current_refill <= n: # if not arrived\n",
    "            num_refills += 1\n",
    "    return num_refills\n",
    "\n",
    "MinRefills([0, 200, 375, 550, 750, 950], 400)"
   ]
  },
  {
   "cell_type": "markdown",
   "metadata": {},
   "source": [
    "* `current_refills` changes from $0$ to $n+1$, one-by-one\n",
    "* `num_refills` changes from $0$ to at most $n$, one-by-one\n",
    "* Everything else changes in constant time.\n",
    "\n",
    "Therefore, $O(n)$ iterations."
   ]
  },
  {
   "cell_type": "markdown",
   "metadata": {},
   "source": [
    "### Algorithm 3: Grouping Children"
   ]
  },
  {
   "cell_type": "markdown",
   "metadata": {},
   "source": [
    "**Problem:** Suppose there are $n$ children at a party. What is the least number of groups that the children can be separated into such that the largest age difference between children in each group is 2 year.\n",
    "\n",
    "**Input format:** List of ages $0 \\leq x_1, ..., x_{n}$.\n",
    "\n",
    "**Output format:** Minimum number of sets to partician the list.\n",
    "\n",
    "**Example:** $6,8,8,9,9 \\mapsto 2$"
   ]
  },
  {
   "cell_type": "code",
   "execution_count": 18,
   "metadata": {},
   "outputs": [],
   "source": [
    "def NaiveMinGroups(C: List):\n",
    "    \"\"\"Pseudo code, trying every possible partition of C into groups\"\"\"\n",
    "    m = len(C) # initialise a group for each child\n",
    "    # for each partician C (k groups):\n",
    "        # good = True\n",
    "        # for i in range(k):\n",
    "            # if max(G_i) - min(G(i)) > 1:\n",
    "                # good = False\n",
    "                # break\n",
    "        # if good:\n",
    "            # m = min(m, k)\n",
    "    # return m\n",
    "    pass "
   ]
  },
  {
   "cell_type": "markdown",
   "metadata": {},
   "source": [
    "Then number of operations in `NaiveMinGroups(C)` is at least $2^n$, where $n$ is the number of children in $C$.  \n",
    "**Proof Outline:** There are $2^n$ possible ways to split $C$ into two groups..."
   ]
  },
  {
   "cell_type": "code",
   "execution_count": 25,
   "metadata": {},
   "outputs": [
    {
     "data": {
      "text/plain": [
       "3"
      ]
     },
     "execution_count": 25,
     "metadata": {},
     "output_type": "execute_result"
    }
   ],
   "source": [
    "def MinGroups(C: List):\n",
    "    \"\"\"Use safe move: cover leftmost point with a unit segment with left endpoint at this point.\"\"\"\n",
    "    group_count = 0\n",
    "    C.sort()\n",
    "    while C:\n",
    "        group_end_age = C[0]+1\n",
    "        # find index of first element in C that is greater than group_end_age\n",
    "        index = next((i for i, x in enumerate(C) if x > group_end_age), len(C))\n",
    "        # remove all elements in C up to index\n",
    "        C = C[index:]\n",
    "        group_count += 1\n",
    "    return group_count\n",
    "\n",
    "\n",
    "\n",
    "MinGroups([1, 2, 4, 6])\n"
   ]
  },
  {
   "cell_type": "markdown",
   "metadata": {},
   "source": [
    "Then number of operations in `NaiveMinGroups(C)` not including sorting is $O(n)$. Sorting is $O(n\\log n)$."
   ]
  },
  {
   "cell_type": "markdown",
   "metadata": {},
   "source": [
    "### Algorithm 4: Fractional Knapsack"
   ]
  },
  {
   "cell_type": "markdown",
   "metadata": {},
   "source": [
    "**Problem:** Given a set of items and their weights and values, what is the maximum value of items that can fit into a rucksack with capcity $W$?\n",
    "\n",
    "**Input format:** Weights $w_1, ..., w_n$, values $v_1, ..., v_n$, and capacity $W$.\n",
    "\n",
    "**Output format:** Minimum total value of fractions of items that fit into bag.\n",
    "\n",
    "**Example:** $(4,3,2), (20, 18, 14), 7 \\mapsto 42= 20/2 + 18 + 14$"
   ]
  },
  {
   "cell_type": "code",
   "execution_count": 28,
   "metadata": {},
   "outputs": [
    {
     "data": {
      "text/plain": [
       "42.0"
      ]
     },
     "execution_count": 28,
     "metadata": {},
     "output_type": "execute_result"
    }
   ],
   "source": [
    "def Knapsack(W: float, w: List, v: List):\n",
    "    \"\"\"Use safe move: begin filling sack with item with greatest value/weight.\"\"\"\n",
    "    # assert len(w) == len(v)\n",
    "\n",
    "    n = len(w)\n",
    "    ratios = [v[i] / w[i] for i in range(n)]\n",
    "\n",
    "    # sort ratios in descending order and sort w and v accordingly\n",
    "    ratios, w, v = zip(*sorted(zip(ratios, w, v), reverse=True))\n",
    "\n",
    "    total_value = 0\n",
    "    for i in range(n):\n",
    "        if w[i] < W:\n",
    "            W -= w[i]\n",
    "            total_value += v[i]\n",
    "        else:\n",
    "            total_value += W * ratios[i]\n",
    "            \n",
    "        \n",
    "    return total_value\n",
    "\n",
    "Knapsack(7, [4, 3, 2], [20, 18, 14])"
   ]
  },
  {
   "cell_type": "markdown",
   "metadata": {},
   "source": [
    "Then number of operations in `Knapsack(W, w, v)` not including sorting is $O(n)$. Sorting is $O(n\\log n)$."
   ]
  }
 ],
 "metadata": {
  "kernelspec": {
   "display_name": "ml",
   "language": "python",
   "name": "python3"
  },
  "language_info": {
   "codemirror_mode": {
    "name": "ipython",
    "version": 3
   },
   "file_extension": ".py",
   "mimetype": "text/x-python",
   "name": "python",
   "nbconvert_exporter": "python",
   "pygments_lexer": "ipython3",
   "version": "3.10.8"
  },
  "orig_nbformat": 4
 },
 "nbformat": 4,
 "nbformat_minor": 2
}
