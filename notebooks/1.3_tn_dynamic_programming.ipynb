{
 "cells": [
  {
   "cell_type": "markdown",
   "metadata": {},
   "source": [
    "# Dynamic Programming"
   ]
  },
  {
   "cell_type": "code",
   "execution_count": 3,
   "metadata": {},
   "outputs": [],
   "source": [
    "# Import third-party modules\n",
    "import numpy as np"
   ]
  },
  {
   "cell_type": "markdown",
   "metadata": {},
   "source": [
    "**STRATEGY**\n",
    "\n",
    "1. Break down problem into non-overlapping subproblems of the same type\n",
    "2. Create a recursive solution: solve each subproblem and combine the results\n",
    "3. Determine $T(n)$: worst-case runtime\n",
    "4. Optionally, create iterative solution\n",
    "\n",
    "Each subproblem is the same type as the original, naturally leading to a recursive solution.  \n",
    "(You can often rewrite the solution to be iterative.)\n",
    "\n",
    "\n",
    "**Worst case $T(n)$**  \n",
    "The worst case time taken for the algorithm for problem size $n$."
   ]
  },
  {
   "cell_type": "markdown",
   "metadata": {},
   "source": [
    "## The Change Problem"
   ]
  },
  {
   "cell_type": "markdown",
   "metadata": {},
   "source": [
    "### Algorithm 1: Change problem"
   ]
  },
  {
   "cell_type": "markdown",
   "metadata": {},
   "source": [
    "**Input:** An integer $money$ and positive integers $coin_1, ..., coin_d$.\n",
    "\n",
    "**Output:** The minimum number of coins with denominations $coin_1, ..., coin_d$ that changes $money$."
   ]
  },
  {
   "cell_type": "markdown",
   "metadata": {},
   "source": [
    "`GreedyChange`: Not optimal  \n",
    "\n",
    "`RecursiveChange`: $T(n) = \\sum_{d \\in D} T(n-d) + O(1)$ (a long long time)\n",
    "\n",
    "`DPChange`: ✅"
   ]
  },
  {
   "cell_type": "code",
   "execution_count": 3,
   "metadata": {},
   "outputs": [
    {
     "data": {
      "text/plain": [
       "5"
      ]
     },
     "execution_count": 3,
     "metadata": {},
     "output_type": "execute_result"
    }
   ],
   "source": [
    "def GreedyChange(money):\n",
    "    return money\n",
    "\n",
    "GreedyChange(5)"
   ]
  },
  {
   "cell_type": "code",
   "execution_count": 4,
   "metadata": {},
   "outputs": [
    {
     "data": {
      "text/plain": [
       "5"
      ]
     },
     "execution_count": 4,
     "metadata": {},
     "output_type": "execute_result"
    }
   ],
   "source": [
    "def RecursiveChange(money):\n",
    "    return money\n",
    "\n",
    "RecursiveChange(5)"
   ]
  },
  {
   "cell_type": "code",
   "execution_count": 5,
   "metadata": {},
   "outputs": [
    {
     "data": {
      "text/plain": [
       "5"
      ]
     },
     "execution_count": 5,
     "metadata": {},
     "output_type": "execute_result"
    }
   ],
   "source": [
    "def DPChange(money):\n",
    "    # Go forwards in time, from 0 to money.\n",
    "    # At each time step, we calculate the minimum number of coins needed to make change for the current amount of money.\n",
    "    return money\n",
    "\n",
    "RecursiveChange(5)"
   ]
  },
  {
   "cell_type": "markdown",
   "metadata": {},
   "source": [
    "## The Alignment Game"
   ]
  },
  {
   "cell_type": "markdown",
   "metadata": {},
   "source": [
    "Alignment of two strings is a two-row matrix such that:  \n",
    "* *1st row:* symbols of the 1st string (in order) interspersed by \"-\"  \n",
    "* *2nd row*: symbols of the 2nd string (in order) interspersed by \"-\"\n",
    "\n",
    "|Sequence 1:| A | T | - | G | T | T | A | T | A\n",
    "|-| - | - | - | - | - | - | - | - | -\n",
    "|**Sequence 2:**| **A** | **T** | **C** | **G** | **T** | **-** | **C** | **-** | **C**\n",
    "|Score| $+1$ | $+1$ | $-\\sigma$ | $+1$ | $+1$ | $-\\sigma$ | $-\\mu$ | $-\\sigma$ | $-\\mu$\n",
    "\n",
    "**Common subsequence:** **ATGT**"
   ]
  },
  {
   "cell_type": "markdown",
   "metadata": {},
   "source": [
    "$\\begin{align}\n",
    "\\text{\\#symbols in two strings} & =  2 \\cdot (\\text{\\#matches} + \\text{\\#mismatches}) + 1 \\cdot (\\text{\\#insertions} + \\text{\\#deletions}) \\\\\n",
    "& = [2 \\cdot \\text{\\#matches} -1 \\cdot (\\text{\\#insertions} + \\text{\\#deletions})] + [2 \\cdot (\\text{\\#insertions} + \\text{\\#deletions} + \\text{\\#mismatches})] \\\\\n",
    "& = 2 \\cdot \\text{Alignment Score} (\\mu=0, \\sigma=1/2) + 2 \\cdot \\text{Edit Distance}\\\\\n",
    "\\end{align}$\n",
    "\n",
    "\n",
    "$$\\therefore \\text{minimising Edit Distance} \\iff \\text{maximising Alignment Score}$$"
   ]
  },
  {
   "cell_type": "markdown",
   "metadata": {},
   "source": [
    "### Problem 2: Optimal alignment"
   ]
  },
  {
   "cell_type": "markdown",
   "metadata": {},
   "source": [
    "**Input:** Two strings, mismatch penalty $\\mu$, and indel penalty $\\sigma$.\n",
    "\n",
    "**Output:** An alignment of the strings maximising the score."
   ]
  },
  {
   "cell_type": "markdown",
   "metadata": {},
   "source": [
    "### Problem 3: Longest common subsequence"
   ]
  },
  {
   "cell_type": "markdown",
   "metadata": {},
   "source": [
    "**Input:** Two strings.\n",
    "\n",
    "**Output:** A longest common subsequence of these strings.\n",
    "\n",
    "Equivalent to: *Optimal slignment* with $\\mu = \\sigma = 0$"
   ]
  },
  {
   "cell_type": "markdown",
   "metadata": {},
   "source": [
    "### Problem 4: Edit distance"
   ]
  },
  {
   "cell_type": "markdown",
   "metadata": {},
   "source": [
    "**Input:** Two strings.\n",
    "\n",
    "**Output:** The minimum number of operations (insertion, deletions, and substitutions of symbols) to transform one string into another.\n",
    "\n",
    "Equivalent to: minimum number of insertions, deletions and mismatches in an alignment of two strings (among all possible alignments)."
   ]
  },
  {
   "cell_type": "markdown",
   "metadata": {},
   "source": [
    "Let $D(i,j)$ be the edit distance of an $i$-prefix $A[1...i]$ and a $j$-prefix $B[1...j]$. Then\n",
    "\n",
    "$$\n",
    "D(i,j) = \\min \\left\\{\\begin{array}{c}\n",
    "D(i,j-1) + 1 \\\\\\\\\n",
    "D(i-1,j) + 1 \\\\\\\\\n",
    "D(i-1,j-1) + 1 & \\text{if} \\; A[i] \\neq B[j]\\\\\\\\\n",
    "D(i-1,j-1) & \\text{if} \\; A[i] = B[j]\\\\\n",
    "\\end{array}\\right.\n",
    "$$"
   ]
  },
  {
   "cell_type": "markdown",
   "metadata": {},
   "source": [
    "**Distance Matrix**  \n",
    "\n",
    "Trace back from bottom right to top left to get Optimal Alignment.\n",
    "\n",
    "<p align=\"center\">\n",
    "    <img src=\"images/edit_distance_matrix.png\" width=\"450\" style=\"display: inline-block; margin-right: 0px;\">\n",
    "</p>\n"
   ]
  },
  {
   "cell_type": "markdown",
   "metadata": {},
   "source": [
    "## Knapsack"
   ]
  },
  {
   "cell_type": "markdown",
   "metadata": {},
   "source": [
    "**GOAL**:  Maximise value while limiting total weight.\n",
    "\n",
    "\n",
    "\n",
    "|Fractional Knapsack| Discrete Knapsack |\n",
    "| - | - |\n",
    "|Can take fractions of items.  | Each item is either taken or not.|\n",
    "| - | **Variant 1**: with repetitions (unlimited quantities) <br> **Variant 2**: without repetitions (one of each item)|\n",
    "|**Use greedy algorithm.**| **Use dynamic programming.** |\n",
    "\n",
    "\n",
    "\n",
    "\n",
    "#### Example Problems\n",
    "\n",
    "\n",
    "**1. TV commercial placement**  \n",
    "Select a set of TV commercial (each commercial has duration and cost) so that the total revenue is maximal while the total length does not exceed the lenfth of the available time slot.\n",
    "\n",
    "**2. Optimising data centre performance**  \n",
    "Purchase computers for a data enter to achieve the maximal performance under limited budget.\n",
    "\n",
    "<p align=\"center\">\n",
    "    <img src=\"images\\knapsack_examples.png\" width=\"450\" style=\"display: inline-block; margin-right: 0px;\">\n",
    "</p>\n",
    "\n",
    "\n"
   ]
  },
  {
   "cell_type": "markdown",
   "metadata": {},
   "source": [
    "### Problem 5: Knapsack with repetitions"
   ]
  },
  {
   "cell_type": "markdown",
   "metadata": {},
   "source": [
    "**Input:** Weights $w_1, ..., w_n \\geq 0$ and values $v_1, ..., v_n \\geq 0$ of $n$ items, and total weight $W \\geq 0$.\n",
    "\n",
    "**Output:** The maximum value of items whose weight does not exceed $W$. Each item can be used any number of times."
   ]
  },
  {
   "cell_type": "markdown",
   "metadata": {},
   "source": [
    "Let $\\text{value}(w)$ be the maximum value of knapsack of weight $w$. Then,\n",
    "$$\n",
    "\\text{value}(w) =  \\underset{i : w_i \\leq w}{\\max} \\{ \\text{value}(w-w_i) + v_i \\}.\n",
    "\n",
    "$$\n",
    "\n",
    "**Running time:** $O(n W)$"
   ]
  },
  {
   "cell_type": "code",
   "execution_count": 70,
   "metadata": {},
   "outputs": [
    {
     "name": "stdout",
     "output_type": "stream",
     "text": [
      "[0, 0, 9, 14, 18, 23, 30, 32, 39, 44, 48]\n"
     ]
    },
    {
     "data": {
      "text/plain": [
       "48"
      ]
     },
     "execution_count": 70,
     "metadata": {},
     "output_type": "execute_result"
    }
   ],
   "source": [
    "def Knapsack(weights, values, W, repetitions=True):\n",
    "    n = len(weights)\n",
    "    Value = [0]*(W+1)\n",
    "    Value[0] = 0\n",
    "\n",
    "    # Calculate the value of the optimal solution for weight w-1, w-2, ..., 1\n",
    "    for w in range(1, W + 1):\n",
    "        Value[w] = 0\n",
    "        # Consider each item\n",
    "        for i in range(1, n + 1):\n",
    "            # If the i-th item fits in the knapsack with remaining weight w\n",
    "            if weights[i-1] <= w:\n",
    "                # Calculate the value of fitting the i-th item in the knapsack when w weight remains.\n",
    "                val = Value[w - weights[i-1]] + values[i-1]\n",
    "                # Update the value if it is greater than the current value, reaching the optimal solution for remaining weight w.\n",
    "                if val > Value[w]:\n",
    "                    Value[w] = val\n",
    "    print(Value)\n",
    "    return Value[W]\n",
    "\n",
    "Knapsack([6, 3, 4, 2], [30, 14, 16, 9], 10)"
   ]
  },
  {
   "cell_type": "code",
   "execution_count": 43,
   "metadata": {},
   "outputs": [
    {
     "name": "stdout",
     "output_type": "stream",
     "text": [
      "2 9 W =  10\n",
      "10 9\n",
      "\n",
      "3 14 W =  10\n",
      "10 14\n",
      "\n",
      "4 16 W =  10\n",
      "10 16\n",
      "\n",
      "6 30 W =  10\n",
      "10 30\n",
      "\n",
      "10 30 W =  10\n",
      "10 30\n",
      "\n"
     ]
    },
    {
     "data": {
      "text/plain": [
       "30"
      ]
     },
     "execution_count": 43,
     "metadata": {},
     "output_type": "execute_result"
    }
   ],
   "source": [
    "Knapsack([6, 3, 4, 2], [30, 14, 16, 9], 10, repetitions=False)"
   ]
  },
  {
   "cell_type": "markdown",
   "metadata": {},
   "source": [
    "### Problem 6: Knapsack without repetitions"
   ]
  },
  {
   "cell_type": "markdown",
   "metadata": {},
   "source": [
    "**Input:** Weights $w_1, ..., w_n \\geq 0$ and values $v_1, ..., v_n \\geq 0$ of $n$ items, and total weight $W \\geq 0$.\n",
    "\n",
    "**Output:** The maximum value of items whose weight does not exceed $W$. Each item can be used at most once."
   ]
  },
  {
   "cell_type": "markdown",
   "metadata": {},
   "source": [
    "Let $\\text{value}(w, i)$ be the maximum value of knapsack of weight $w$ and items $1,...,n$. Then, given the $i$-th item is used or not,\n",
    "$$\n",
    "\\text{value}(w, i) =  \\max \\{ \\text{value}(w-w_i, i-1) + v_i,  \\text{value}(w, i-1)\\}.\n",
    "\n",
    "$$\n",
    "\n",
    "**Running time:** $O(n W)$"
   ]
  },
  {
   "cell_type": "code",
   "execution_count": 69,
   "metadata": {},
   "outputs": [
    {
     "name": "stdout",
     "output_type": "stream",
     "text": [
      "[[ 0.  0.  0.  0.  0.]\n",
      " [ 0.  0.  0.  0.  0.]\n",
      " [ 0.  0.  0.  0.  9.]\n",
      " [ 0.  0. 14. 14. 14.]\n",
      " [ 0.  0. 14. 16. 16.]\n",
      " [ 0.  0. 14. 16. 23.]\n",
      " [ 0. 30. 30. 30. 30.]\n",
      " [ 0. 30. 30. 30. 30.]\n",
      " [ 0. 30. 30. 30. 39.]\n",
      " [ 0. 30. 44. 44. 44.]\n",
      " [ 0. 30. 44. 46. 46.]]\n"
     ]
    },
    {
     "data": {
      "text/plain": [
       "46.0"
      ]
     },
     "execution_count": 69,
     "metadata": {},
     "output_type": "execute_result"
    }
   ],
   "source": [
    "def Knapsack(weights, values, W):\n",
    "    weights = np.array(weights)\n",
    "    values = np.array(values)\n",
    "    n = len(weights)\n",
    "    # initialise numpy 2x2 array with zeros\n",
    "    Value = np.zeros((W+1, n+1))\n",
    "\n",
    "    # Calculate the value of the optimal solution for weight w-1, w-2, ..., 1\n",
    "    for w in range(1, W+1):\n",
    "        for i in range(1, n+1):\n",
    "            #print(f\"Value[{w}, {i}] = {Value[w, i-1]}\")\n",
    "            Value[w, i] = Value[w, i-1]\n",
    "            if weights[i-1] <= w:\n",
    "                # Calculate the value of fitting the i-th item in the knapsack when w weight remains.\n",
    "                val = Value[w - weights[i-1], i-1] + values[i-1]\n",
    "                # Update the value if it is greater than the current value, reaching the optimal solution for remaining weight w.\n",
    "                if val > Value[w, i]:\n",
    "                    Value[w, i] = val # ie Value[w, i] = max(Value[w - weights[i-1], i-1] + values[i-1], Value[w, i-1])\n",
    "    print(Value)\n",
    "    return Value[W, n]\n",
    "\n",
    "Knapsack([6, 3, 4, 2], [30, 14, 16, 9], 10)"
   ]
  },
  {
   "cell_type": "markdown",
   "metadata": {},
   "source": [
    "**Reconstructing a solution**\n",
    "\n",
    "<p align=\"left\">\n",
    "    <img src=\"images/knapsack_reconstruct.png\" width=\"450\" style=\"display: inline-block; margin-right: 0px;\">\n",
    "</p>\n"
   ]
  },
  {
   "cell_type": "markdown",
   "metadata": {},
   "source": [
    "### Final remarks"
   ]
  },
  {
   "cell_type": "markdown",
   "metadata": {},
   "source": [
    "* Use a hash table!\n",
    "* If all problems must be solves, then an iterative algorithm is usually faster since it has no recursion.\n",
    "* However, there are cases when one does not need to solve all subproblems,  \n",
    "e.g. assume $W, w_1,...,w_n \\mid 100$, then $\\text{value}(w)$ not needed when $w \\nmid 100$.\n",
    "* $O(nW)$ is not polynomial, it is exponential: $O(n2^{\\log W})$:  \n",
    "To represent $W$, we need only $\\log(W)$ digits, so input size is $\\log(W)$ and not $W$.  \n",
    "Hepful explanation: https://stackoverflow.com/questions/4538581/why-is-the-knapsack-problem-pseudo-polynomial"
   ]
  },
  {
   "cell_type": "markdown",
   "metadata": {},
   "source": [
    "## Placing Parenthesis"
   ]
  },
  {
   "cell_type": "markdown",
   "metadata": {},
   "source": [
    "**Input:** A sequence of digits $d_1, ..., d_n$ and a sequence of operations $op_1, ..., op_n \\in \\{+, -, \\times\\}$.\n",
    "\n",
    "**Output:** An order of applying these operaitons that maximises the value of the expression $d_1 \\; op_1 \\; d_2 \\; op_2 \\; ... \\; op_n \\; d_n$.\n",
    "\n",
    "**Running time:** $O(n^3)$\n",
    "\n",
    "* Let $E_{i,j}$ be the subexpression  \n",
    "$d_i \\; op_i \\; ... \\; op_{j-1} \\; d_j$.\n",
    "\n",
    "* Subproblems:  \n",
    "$$\n",
    "M(i,j) = \\max E_{i,j} = \\underset{i \\leq k \\leq j-1}{\\max} \\left\\{\\begin{array}{c}\n",
    "M(i,k) \\quad op_k \\quad M(k+1,j) \\\\\\\\\n",
    "M(i,k) \\quad op_k \\quad m(k+1,j) \\\\\\\\\n",
    "m(i,k) \\quad op_k \\quad M(k+1,j) \\\\\\\\\n",
    "m(i,k) \\quad op_k \\quad m(k+1,j) \\\\\n",
    "\\end{array}\\right.\n",
    "$$\n",
    "\n",
    "$$\n",
    "m(i,j) = \\min E_{i,j} = \\underset{i \\leq k \\leq j-1}{\\min} \\left\\{\\begin{array}{c}\n",
    "M(i,k) \\quad op_k \\quad M(k+1,j) \\\\\\\\\n",
    "M(i,k) \\quad op_k \\quad m(k+1,j) \\\\\\\\\n",
    "m(i,k) \\quad op_k \\quad M(k+1,j) \\\\\\\\\n",
    "m(i,k) \\quad op_k \\quad m(k+1,j) \\\\\n",
    "\\end{array}\\right.\n",
    "$$\n",
    "\n",
    "<br>\n",
    "<p align=\"middle\">\n",
    "    <img src=\"images\\placing_parenthesis_order.png\" width=\"450\" style=\"display: inline-block; margin-right: 0px;\">\n",
    "</p>\n",
    "\n",
    "\n"
   ]
  },
  {
   "cell_type": "code",
   "execution_count": 21,
   "metadata": {},
   "outputs": [
    {
     "name": "stdout",
     "output_type": "stream",
     "text": [
      "[[  5.  -3.   4.  25.  65. 200.]\n",
      " [  0.   8.  15.  60.  52.  75.]\n",
      " [  0.   0.   7.  28.  20.  35.]\n",
      " [  0.   0.   0.   4.  -4.   5.]\n",
      " [  0.   0.   0.   0.   8.  17.]\n",
      " [  0.   0.   0.   0.   0.   9.]]\n",
      "[[   5.   -3.  -10.  -55.  -63.  -94.]\n",
      " [   0.    8.   15.   36.  -60. -195.]\n",
      " [   0.    0.    7.   28.  -28.  -91.]\n",
      " [   0.    0.    0.    4.   -4.  -13.]\n",
      " [   0.    0.    0.    0.    8.   17.]\n",
      " [   0.    0.    0.    0.    0.    9.]]\n"
     ]
    },
    {
     "data": {
      "text/plain": [
       "200"
      ]
     },
     "execution_count": 21,
     "metadata": {},
     "output_type": "execute_result"
    }
   ],
   "source": [
    "import operator\n",
    "ops = {\n",
    "    \"+\": operator.add,\n",
    "    \"-\": operator.sub,\n",
    "    \"*\": operator.mul,\n",
    "}   \n",
    "\n",
    "def MinAndMax(i, j, m, M, op):\n",
    "    min = np.inf\n",
    "    max = -np.inf\n",
    "\n",
    "    for k in range(i, j):\n",
    "        a  = ops[op[k]](M[i, k], M[k+1, j])\n",
    "        b  = ops[op[k]](M[i, k], m[k+1, j])\n",
    "        c  = ops[op[k]](m[i, k], M[k+1, j])\n",
    "        d  = ops[op[k]](m[i, k], m[k+1, j])\n",
    "\n",
    "        min = np.min([min, a, b, c, d])\n",
    "        max = np.max([max, a, b, c, d])\n",
    "    \n",
    "    return min, max\n",
    "\n",
    "def Parentheses(d, op):\n",
    "    assert(len(d) == len(op) + 1)\n",
    "    n = len(d)\n",
    "    m = np.zeros((n, n))\n",
    "    M = np.zeros((n, n))\n",
    "\n",
    "    for i in range(n):\n",
    "        m[i, i] = d[i]\n",
    "        M[i, i] = d[i]\n",
    "    \n",
    "\n",
    "    # Iterate over the diagonals: (1,1) (2,2) (3,3) (4,4) (5,5),  (1,2) (2,3) (3,4) (4,5),  (1,3) (2,4) (3,5),  (1,4) (2,5),  (1,5)\n",
    "    for s in range(1, n):\n",
    "        for i in range(n-s):\n",
    "            j = i + s\n",
    "            \n",
    "            m[i, j], M[i, j] = MinAndMax(i, j, m, M, op)\n",
    "\n",
    "    print(M)\n",
    "    print(m)\n",
    "    return int(M[0, n-1])\n",
    "\n",
    "\n",
    "Parentheses([5, 8, 7, 4, 8, 9], ['-', '+', '*', '-', '+'])"
   ]
  },
  {
   "cell_type": "markdown",
   "metadata": {},
   "source": [
    "<p align=\"left\">\n",
    "    <img src=\"images\\placing_parenthesis_reconstruct.png\" width=\"450\" style=\"display: inline-block; margin-right: 0px;\">\n",
    "</p>"
   ]
  }
 ],
 "metadata": {
  "kernelspec": {
   "display_name": "ml",
   "language": "python",
   "name": "python3"
  },
  "language_info": {
   "codemirror_mode": {
    "name": "ipython",
    "version": 3
   },
   "file_extension": ".py",
   "mimetype": "text/x-python",
   "name": "python",
   "nbconvert_exporter": "python",
   "pygments_lexer": "ipython3",
   "version": "3.10.8"
  },
  "orig_nbformat": 4
 },
 "nbformat": 4,
 "nbformat_minor": 2
}
