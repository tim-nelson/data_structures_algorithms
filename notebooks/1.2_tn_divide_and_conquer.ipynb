{
 "cells": [
  {
   "cell_type": "markdown",
   "metadata": {},
   "source": [
    "# Divide-And-Conquer"
   ]
  },
  {
   "cell_type": "code",
   "execution_count": 28,
   "metadata": {},
   "outputs": [],
   "source": [
    "# Import built-in Python modules\n",
    "from typing import List\n",
    "\n",
    "# Import third-party modules\n",
    "import numpy as np"
   ]
  },
  {
   "cell_type": "markdown",
   "metadata": {},
   "source": [
    "**STRATEGY**\n",
    "\n",
    "1. Break down problem into non-overlapping subproblems of the same type\n",
    "2. Create a recursive solution: solve each subproblem and combine the results\n",
    "3. Determine $T(n)$: worst-case runtime\n",
    "4. Optionally, create iterative solution\n",
    "\n",
    "Each subproblem is the same type as the original, naturally leading to a recursive solution.  \n",
    "(You can often rewrite the solution to be iterative.)\n",
    "\n",
    "\n",
    "**Worst case $T(n)$**  \n",
    "The worst case time taken for the algorithm for problem size $n$."
   ]
  },
  {
   "cell_type": "markdown",
   "metadata": {},
   "source": [
    "**Master Theorem**\n",
    "\n",
    "If $T(n) = aT(\\lceil \\frac{n}{b} \\rceil) + O(n^d)$, such that $a>0, b>1, d \\geq 0$, then\n",
    "\n",
    "$$\n",
    "T(n) = \\left\\{\\begin{array}{c}\n",
    "O(n^d) & d > \\log_b a \\iff \\text{work reduces each step}\\\\\\\\\n",
    "O(n^d \\log n) & d = \\log_b a \\iff \\text{same work for all steps}\\\\\\\\\n",
    "O(n^{\\log_b a}) & d < \\log_b a \\iff \\text{work increases each step}\\\\\n",
    "\\end{array}\\right.\n",
    "$$"
   ]
  },
  {
   "cell_type": "markdown",
   "metadata": {},
   "source": [
    "| Algorithm | $T(n)$ | $T(n)$ solution         | Notes\n",
    "| -------- | ----------------- | ------------------ |---|\n",
    "| Linear Search in Array | $ T(n-1) + O(1)$  | $O(n)$  |\n",
    "| Linear Search in SORTED Array   | $T( \\lfloor n/2 \\rfloor) + O(1)$  | $O(\\log n)$  |\n",
    "| Naive C&D PolyMult | $4T(n/2) + O(n)$ | $O(n^2)$  |\n",
    "| Karatsuba PolyMult | $3T(n/2) + O(n)$ | $O(n^{\\log_2 3})$ |\n",
    "| Selection Sort | $T(n-1) + O(n)$ | $O(n^2)$ |\n",
    "| Merge Sort | $2T(n/2) + O(n)$ | $O(n \\log n)$ | $O(n \\log n)$ worst case\n",
    "| Quick Sort | $2T(n/2) + O(n)$ (av.)| $O(n \\log n)$ | $O(n \\log n)$ on average, $O(n^2)$ if unabalanced\n",
    "| Randomised Quick Sort | $2T(n/2) + O(n)$| $O(n \\log n)$ | $O(n \\log n)$ on average, $O(n^2)$ worst case"
   ]
  },
  {
   "cell_type": "markdown",
   "metadata": {},
   "source": [
    "## Applications"
   ]
  },
  {
   "cell_type": "markdown",
   "metadata": {},
   "source": [
    "### Algorithm 1: Linear Search in Array"
   ]
  },
  {
   "cell_type": "markdown",
   "metadata": {},
   "source": [
    "**Input:** An array $A$ with $n$ elements, and key $k$\n",
    "\n",
    "**Output:** An index, $i$, where $A[i]=k$. If there is not such $i$, then `NOT_FOUND`.\n",
    "\n",
    "<!-- **Example:** $3, 9, 5, 9, 7, 1 \\mapsto 997531$ -->"
   ]
  },
  {
   "cell_type": "markdown",
   "metadata": {},
   "source": [
    "$T(n) = T(n-1) + O(1)$  \n",
    "$T(0) = O(1)$  \n",
    "Therefore,  \n",
    "$T(n) = (n+1) \\cdot O(1) = \\Theta(n)$"
   ]
  },
  {
   "cell_type": "code",
   "execution_count": 18,
   "metadata": {},
   "outputs": [
    {
     "data": {
      "text/plain": [
       "1"
      ]
     },
     "execution_count": 18,
     "metadata": {},
     "output_type": "execute_result"
    }
   ],
   "source": [
    "def LinearSearch(A, lower_bound, higher_bound, key):\n",
    "    \"\"\"\n",
    "    Recursive Version\n",
    "    NOT Divide-and-Conquer: reducing search space by 1 each time and not by a constant factor.\n",
    "    Worse case: O(n)\n",
    "    \"\"\"\n",
    "    if higher_bound < lower_bound:\n",
    "        return \"Not found\"\n",
    "    if A[lower_bound] == key:\n",
    "        return lower_bound\n",
    "\n",
    "    return LinearSearch(A, lower_bound + 1, higher_bound, key)\n",
    "\n",
    "LinearSearch([3, 9, 5, 9, 7, 1], 0, 5, 9)"
   ]
  },
  {
   "cell_type": "code",
   "execution_count": 17,
   "metadata": {},
   "outputs": [
    {
     "data": {
      "text/plain": [
       "1"
      ]
     },
     "execution_count": 17,
     "metadata": {},
     "output_type": "execute_result"
    }
   ],
   "source": [
    "def LinearSearchIt(A, lower_bound, higher_bound, key):\n",
    "    \"\"\"\n",
    "    Iterative Version\n",
    "    NOT Divide-and-Conquer: reducing search space by 1 each time and not by a constant factor.\n",
    "    Worse case: O(n)\n",
    "    \"\"\"\n",
    "    for i in range(lower_bound, higher_bound + 1):\n",
    "        if A[i] == key:\n",
    "            return i\n",
    "    return \"Not found\"\n",
    "\n",
    "LinearSearchIt([3, 9, 5, 9, 7, 1], 0, 5, 9)"
   ]
  },
  {
   "cell_type": "markdown",
   "metadata": {},
   "source": [
    "### Algorithm 2: Linear Search in SORTED Array"
   ]
  },
  {
   "cell_type": "markdown",
   "metadata": {},
   "source": [
    "**Input:** A sorted array $A$ with $n$ elements, and key $k$\n",
    "\n",
    "**Output:** An index, $i$, where $A[i]=k$. Otherwise, the greatest index $i$ where $A[i] < k$. Otherwise `lower_bound`$-1$.\n",
    "\n",
    "<!-- **Example:** $3, 9, 5, 9, 7, 1 \\mapsto 997531$ -->"
   ]
  },
  {
   "cell_type": "markdown",
   "metadata": {},
   "source": [
    "$T(n) = T( \\lfloor n/2 \\rfloor) + O(1)$  \n",
    "$T(0) = O(1)$  \n",
    "Therefore,  \n",
    "$T(n) = O(1) \\cdot \\log _2 n = \\Theta(\\log _2 n )$"
   ]
  },
  {
   "cell_type": "code",
   "execution_count": 16,
   "metadata": {},
   "outputs": [
    {
     "data": {
      "text/plain": [
       "9"
      ]
     },
     "execution_count": 16,
     "metadata": {},
     "output_type": "execute_result"
    }
   ],
   "source": [
    "def BinarySearch(A, lower_bound, higher_bound, key):\n",
    "    \"\"\"\n",
    "    Recursive Version\n",
    "    Divide-and-Conquer: halve search space each time.\n",
    "    \"\"\"\n",
    "    if higher_bound < lower_bound:\n",
    "        return lower_bound-1\n",
    "    \n",
    "    mid = (lower_bound + higher_bound) // 2\n",
    "\n",
    "    if A[mid] == key:\n",
    "        return mid\n",
    "    \n",
    "    elif A[mid] > key:\n",
    "        return BinarySearch(A, lower_bound, mid - 1, key)\n",
    "    \n",
    "    else:\n",
    "        return BinarySearch(A, mid + 1, higher_bound, key)\n",
    "\n",
    "BinarySearch([3, 5, 8, 10, 12, 15, 18, 20, 20, 50, 60], 0, 10, 50)"
   ]
  },
  {
   "cell_type": "code",
   "execution_count": 27,
   "metadata": {},
   "outputs": [
    {
     "data": {
      "text/plain": [
       "9"
      ]
     },
     "execution_count": 27,
     "metadata": {},
     "output_type": "execute_result"
    }
   ],
   "source": [
    "def BinarySearchIt(A, lower_bound, higher_bound, key):\n",
    "    \"\"\"\n",
    "    Iterative Version\n",
    "    Divide-and-Conquer: halve search space each time.\n",
    "    \"\"\"\n",
    "    if higher_bound < lower_bound:\n",
    "        return lower_bound-1\n",
    "    \n",
    "    while A:\n",
    "        mid = (lower_bound + higher_bound) // 2\n",
    "\n",
    "        if A[mid] == key:\n",
    "            return mid\n",
    "        \n",
    "        elif A[mid] > key:\n",
    "            higher_bound = mid-1\n",
    "        \n",
    "        else:\n",
    "            lower_bound = mid+1\n",
    "\n",
    "BinarySearchIt([3, 5, 8, 10, 12, 15, 18, 20, 20, 50, 60], 0, 10, 50)"
   ]
  },
  {
   "cell_type": "markdown",
   "metadata": {},
   "source": [
    "### Algorithm 3: Polynomial Multiplication"
   ]
  },
  {
   "cell_type": "markdown",
   "metadata": {},
   "source": [
    "**Input:** Sequence $A[1...n]$\n",
    "\n",
    "**Output:** Permutation $A'[1...n]$ of $A[1,...n]$ in non-decreasing order."
   ]
  },
  {
   "cell_type": "code",
   "execution_count": 44,
   "metadata": {},
   "outputs": [
    {
     "data": {
      "text/plain": [
       "array([15., 13., 33.,  9., 10.])"
      ]
     },
     "execution_count": 44,
     "metadata": {},
     "output_type": "execute_result"
    }
   ],
   "source": [
    "def Sort(A, B):\n",
    "    \"\"\"Runtime: O(n^2)\"\"\"\n",
    "    n = len(A)\n",
    "    assert n == len(B)\n",
    "\n",
    "    C = np.zeros(2*n-1)\n",
    "\n",
    "    for i in range(n):\n",
    "        for j in range(n):\n",
    "            C[i+j] += A[i]*B[j]\n",
    "\n",
    "    return C\n",
    "\n",
    "NaiveMultPoly([3,2,5], [5,1,2])"
   ]
  },
  {
   "cell_type": "markdown",
   "metadata": {},
   "source": [
    "## Sorting (comparison-based)"
   ]
  },
  {
   "cell_type": "markdown",
   "metadata": {},
   "source": [
    "**Input:** An array $A$ with $n$ elements.\n",
    "\n",
    "**Output:** A sorted array $A$.\n",
    "\n",
    "\n",
    "**Lemma**  \n",
    "For any comparison based sorting algorithm, there exists an array $A[1...n]$ such that the algorithm performs at least $\\Omega(n \\log n)$ comparisons to sort $A$.\n",
    "\n",
    "**Proof Outline**  \n",
    "Any comparison sorting algorithm can be written as a decision tree.  \n",
    "The number of leaves $l$ in the tree must be at least $n!$ (the total number of permutations).  \n",
    "The worst-case running time of the algorithm (the number of comparisons made) is at least the depth $d$.\n",
    "\n",
    "\n",
    "$2^d \\geq l \\iff d \\geq \\log_2 l \\implies d \\geq \\log_2 n! = \\sum_1^n\\log_2 i \\geq \\frac{n}{2} \\log_2 \\frac{n}{2} = \\Omega(n \\log n)$"
   ]
  },
  {
   "cell_type": "markdown",
   "metadata": {},
   "source": [
    "### Algorithm 4: Selection Sort (comparison)"
   ]
  },
  {
   "cell_type": "markdown",
   "metadata": {},
   "source": [
    "1. Find smallest element\n",
    "2. Swap with first element\n",
    "3. Repeat (ignore first element)\n",
    "\n",
    "Note:  \n",
    "* $\\text{number of inner loop steps} = (n-1) + (n-2) + \\cdots + 1 = \\frac{1}{2} n (n+1)$"
   ]
  },
  {
   "cell_type": "code",
   "execution_count": 111,
   "metadata": {},
   "outputs": [
    {
     "data": {
      "text/plain": [
       "[1, 3, 5, 6, 7, 9, 10]"
      ]
     },
     "execution_count": 111,
     "metadata": {},
     "output_type": "execute_result"
    }
   ],
   "source": [
    "def SelectionSort(A):\n",
    "    n = len(A)\n",
    "    for i in range(n):\n",
    "        min_idx = i\n",
    "        for j in range(i+1, n):\n",
    "            if A[min_idx] > A[j]:\n",
    "                min_idx = j\n",
    "        A[i], A[min_idx] = A[min_idx], A[i]\n",
    "    return A\n",
    "\n",
    "SelectionSort([10, 9, 6, 3, 7, 5, 1])"
   ]
  },
  {
   "cell_type": "markdown",
   "metadata": {},
   "source": [
    "### Algorithm 5: Merge Sort (comparison)"
   ]
  },
  {
   "cell_type": "markdown",
   "metadata": {},
   "source": [
    "1. Split the array into two halves $L$ and $R$.\n",
    "2. Sort each half recursively.\n",
    "3. Merge the sorted halves into one array, iteratively moving the smallest of $R[0]$ and $L[0]$ to the merged array.\n",
    "\n",
    "**Alternative explanation:**\n",
    "1. Split the array into individual units.\n",
    "2. Merge* adjacent units $L$ and $R$ into ordered pairs.\n",
    "3. Repeat, merging adjecent pairs, etc. \n",
    "\n",
    "*Merge units $R$ and $L$ by iteratively moving the smallest of $R[0]$ and $L[0]$ into a merged array."
   ]
  },
  {
   "cell_type": "code",
   "execution_count": null,
   "metadata": {},
   "outputs": [
    {
     "data": {
      "text/plain": [
       "[1, 3, 5, 6, 7, 9, 10]"
      ]
     },
     "metadata": {},
     "output_type": "display_data"
    }
   ],
   "source": [
    "def _Merge(left, right):\n",
    "    \"\"\"O(len(left) + len(right)))\"\"\"\n",
    "    d = [0 for i in range(len(left) + len(right)-1)]\n",
    "\n",
    "    index=0\n",
    "    while len(left) > 0 and len(right) > 0:\n",
    "        \n",
    "        if left[0] <= right[0]:\n",
    "            d[index] = left.pop(0)\n",
    "        else:\n",
    "            d[index] = right.pop(0)\n",
    "        index += 1\n",
    "    \n",
    "    if len(left) > 0:\n",
    "        d[index:] = left\n",
    "    else:\n",
    "        d[index:] = right\n",
    "\n",
    "    return d\n",
    "\n",
    "def MergeSort(A):\n",
    "    n = len(A)\n",
    "    if n == 1:\n",
    "        return A\n",
    "\n",
    "    mid = n // 2\n",
    "    left = MergeSort(A[:mid])\n",
    "    right = MergeSort(A[mid:])\n",
    "\n",
    "\n",
    "    return _Merge(left, right)\n",
    "\n",
    "MergeSort([10, 9, 6, 3, 7, 5, 1])"
   ]
  },
  {
   "cell_type": "markdown",
   "metadata": {},
   "source": [
    "### Algorithm 7: Quick Sort (comparison)"
   ]
  },
  {
   "cell_type": "markdown",
   "metadata": {},
   "source": [
    "1. Select $A[0]$ to be the pivot.\n",
    "2. Use a Partition algorithm: moving through each $A[i]$ in the array, leave it if larger than the pivot, or swap with the earliest large value if smaller than or equal to the pivot.\n",
    "3. Fix the pivot to the position between the left (smaller or equal values) and right (larger values) regions.\n",
    "4. Repeat on the two regions."
   ]
  },
  {
   "cell_type": "markdown",
   "metadata": {},
   "source": [
    "**Lemma**  \n",
    "Assume that all elements of $A[1...n]$ are pairwise different. Then the average running time of `RandomizedQuickSort(A)` is $O(n \\log n)$, while the worst case running time is $O(n^2)$.\n",
    "\n",
    "**Improvements**\n",
    "1. Randomized Quicksort\n",
    "2. 3-way partitioning (for duplicate values)\n",
    "3. Rail recursion elimination (solved unbalanced lists)\n",
    "\n",
    "See tests below for how effective each improvement is, depending on the type of array used."
   ]
  },
  {
   "cell_type": "code",
   "execution_count": 182,
   "metadata": {},
   "outputs": [
    {
     "data": {
      "text/plain": [
       "[1, 3, 5, 6, 7, 9, 10]"
      ]
     },
     "execution_count": 182,
     "metadata": {},
     "output_type": "execute_result"
    }
   ],
   "source": [
    "def Partition(A, l, r):\n",
    "    m = A[l]\n",
    "    j = l + 1\n",
    "    for i in range(l + 1, r + 1):\n",
    "        if A[i] < m:\n",
    "            A[j], A[i] = A[i], A[j]\n",
    "            j += 1\n",
    "    A[l], A[j - 1] = A[j - 1], A[l]\n",
    "    return j-1\n",
    "\n",
    "def Partition3(A, l, r):\n",
    "    m1 = A[l]\n",
    "    j = l + 1\n",
    "    d=0\n",
    "    for i in range(l + 1, r + 1):\n",
    "        if A[i] < m1:\n",
    "            A[j], A[i] = A[i], A[j]\n",
    "            j += 1\n",
    "        if A[i] == m1:\n",
    "            A[j], A[i] = A[i], A[j]\n",
    "            j += 1\n",
    "            d += 1\n",
    "    A[l], A[j - 1] = A[j - 1], A[l]\n",
    "    return (j-1, j+d-1)\n",
    "\n",
    "\n",
    "\n",
    "def QuickSort(A, l=None, r=None):\n",
    "    if l is None:\n",
    "        l = 0\n",
    "    if r is None:\n",
    "        r = len(A) - 1\n",
    "        \n",
    "    if l >= r:\n",
    "        return\n",
    "    m = Partition(A, l, r)\n",
    "    QuickSort(A, l, m - 1)\n",
    "    QuickSort(A, m + 1, r)\n",
    "\n",
    "    return A\n",
    "\n",
    "def RandomisedQuickSort(A, l=None, r=None):\n",
    "    if l is None:\n",
    "        l = 0\n",
    "    if r is None:\n",
    "        r = len(A) - 1\n",
    "\n",
    "    if l >= r:\n",
    "        return\n",
    "    \n",
    "    k = np.random.randint(l, r + 1)\n",
    "    A[l], A[k] = A[k], A[l]\n",
    "\n",
    "    m = Partition(A, l, r)\n",
    "    QuickSort(A, l, m - 1)\n",
    "    QuickSort(A, m + 1, r)\n",
    "\n",
    "    return A\n",
    "\n",
    "\n",
    "def RandomisedQuickSort3(A, l=None, r=None):\n",
    "    if l is None:\n",
    "        l = 0\n",
    "    if r is None:\n",
    "        r = len(A) - 1\n",
    "\n",
    "    if l >= r:\n",
    "        return\n",
    "    \n",
    "    k = np.random.randint(l, r + 1)\n",
    "    A[l], A[k] = A[k], A[l]\n",
    "\n",
    "    m1, m2 = Partition3(A, l, r)\n",
    "    QuickSort(A, l, m1 - 1)\n",
    "    QuickSort(A, m2 + 1, r)\n",
    "\n",
    "    return A   \n",
    "\n",
    "\n",
    "def RandomisedQuickSort3_tail_rec(A, l=None, r=None):\n",
    "    if l is None:\n",
    "        l = 0\n",
    "    if r is None:\n",
    "        r = len(A) - 1\n",
    "\n",
    "    # if l >= r:\n",
    "    #     return\n",
    "\n",
    "    while l < r:\n",
    "        k = np.random.randint(l, r + 1)\n",
    "        A[l], A[k] = A[k], A[l]\n",
    "\n",
    "        m1, m2 = Partition3(A, l, r)\n",
    "\n",
    "        if m1 - l < r - m2:\n",
    "            QuickSort(A, l, m1 - 1)\n",
    "            l = m2 + 1\n",
    "           \n",
    "        else:\n",
    "            QuickSort(A, m2 + 1, r)\n",
    "            r = m1 - 1\n",
    "\n",
    "    return A   \n",
    "\n",
    "# Fix for tail recursion: use while loop\n",
    "...\n",
    "\n",
    "\n",
    "\n",
    "RandomisedQuickSort3_tail_rec([10, 9, 6, 3, 7, 5, 1])"
   ]
  },
  {
   "cell_type": "markdown",
   "metadata": {},
   "source": [
    "**TESTS**"
   ]
  },
  {
   "cell_type": "code",
   "execution_count": 185,
   "metadata": {},
   "outputs": [
    {
     "name": "stdout",
     "output_type": "stream",
     "text": [
      "110 ms ± 5.57 ms per loop (mean ± std. dev. of 7 runs, 10 loops each)\n",
      "59.8 ms ± 5.97 ms per loop (mean ± std. dev. of 7 runs, 10 loops each)\n",
      "70.5 ms ± 9.11 ms per loop (mean ± std. dev. of 7 runs, 10 loops each)\n"
     ]
    }
   ],
   "source": [
    "int_list = np.random.randint(1, 5, 2000)\n",
    "\n",
    "# time quicksort\n",
    "%timeit RandomisedQuickSort(int_list)\n",
    "%timeit RandomisedQuickSort3(int_list)\n",
    "%timeit RandomisedQuickSort3_tail_rec(int_list)"
   ]
  },
  {
   "cell_type": "code",
   "execution_count": 187,
   "metadata": {},
   "outputs": [
    {
     "name": "stdout",
     "output_type": "stream",
     "text": [
      "107 ms ± 6.93 ms per loop (mean ± std. dev. of 7 runs, 10 loops each)\n",
      "107 ms ± 5.42 ms per loop (mean ± std. dev. of 7 runs, 10 loops each)\n",
      "35.5 ms ± 1.68 ms per loop (mean ± std. dev. of 7 runs, 10 loops each)\n"
     ]
    }
   ],
   "source": [
    "int_list = np.random.randint(1, 2000, 2000)\n",
    "\n",
    "# time quicksort\n",
    "%timeit RandomisedQuickSort(int_list)\n",
    "%timeit RandomisedQuickSort3(int_list)\n",
    "%timeit RandomisedQuickSort3_tail_rec(int_list)"
   ]
  },
  {
   "cell_type": "markdown",
   "metadata": {},
   "source": [
    "### Algorithm 8: Intro Sort (comparison)"
   ]
  },
  {
   "cell_type": "markdown",
   "metadata": {},
   "source": [
    "Deterministic version of Quick Sort:  \n",
    "* runs quick sort with a simple deterministic pivot selection heuristic (say, median of th efirst, middle, and last element).\n",
    "* if the recursion depth exceeds a certain threshold $c \\log n$, the algorithm switches to heap sorting - not as good as quick sort but runing time is still $O(n \\log n)$."
   ]
  },
  {
   "cell_type": "markdown",
   "metadata": {},
   "source": [
    "## Sorting (non-comparison-based)"
   ]
  },
  {
   "cell_type": "markdown",
   "metadata": {},
   "source": [
    "**Input:** An array $A$ with $n$ elements, **and additional assumption**.\n",
    "\n",
    "**Output:** A sorted array $A$.\n",
    "\n",
    "\n",
    "**Lemma**  \n",
    "Provided all elements of $A[1...n]$ are integers from $1$ to $M$, `CountSort(A)` sorts $A$ in time $O(n+M)$.  \n",
    "If $M = O(n)$, then running time is $O(n)$. "
   ]
  },
  {
   "cell_type": "markdown",
   "metadata": {},
   "source": [
    "### Algorithm 9: Counting Sort (non-comparison)"
   ]
  },
  {
   "cell_type": "markdown",
   "metadata": {},
   "source": [
    "* Assume all elements of $A[1...n]$ are integers from $1$ to $M$."
   ]
  },
  {
   "cell_type": "code",
   "execution_count": 144,
   "metadata": {},
   "outputs": [
    {
     "data": {
      "text/plain": [
       "[1, 1, 2, 2, 2, 3, 4]"
      ]
     },
     "execution_count": 144,
     "metadata": {},
     "output_type": "execute_result"
    }
   ],
   "source": [
    "def CountSort(A: List, M: int):\n",
    "    count_list = [0 for _ in range(M)]\n",
    "    for i in range(len(A)):\n",
    "        count_list[A[i]-1] += 1\n",
    "\n",
    "    R = []\n",
    "    for value in range(1, M):\n",
    "        R += [value]*count_list[value-1]\n",
    "\n",
    "    return R\n",
    "\n",
    "CountSort([1, 2, 1, 5, 3, 4, 2, 2, 5], 5)"
   ]
  }
 ],
 "metadata": {
  "kernelspec": {
   "display_name": "ml",
   "language": "python",
   "name": "python3"
  },
  "language_info": {
   "codemirror_mode": {
    "name": "ipython",
    "version": 3
   },
   "file_extension": ".py",
   "mimetype": "text/x-python",
   "name": "python",
   "nbconvert_exporter": "python",
   "pygments_lexer": "ipython3",
   "version": "3.10.8"
  },
  "orig_nbformat": 4
 },
 "nbformat": 4,
 "nbformat_minor": 2
}
